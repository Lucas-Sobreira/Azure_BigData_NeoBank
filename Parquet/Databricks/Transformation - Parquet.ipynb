{
 "cells": [
  {
   "cell_type": "markdown",
   "metadata": {
    "application/vnd.databricks.v1+cell": {
     "cellMetadata": {
      "byteLimit": 2048000,
      "rowLimit": 10000
     },
     "inputWidgets": {},
     "nuid": "5432dccb-626b-41f5-936e-18ab0d1a5224",
     "showTitle": false,
     "title": ""
    }
   },
   "source": [
    "## Imports"
   ]
  },
  {
   "cell_type": "markdown",
   "metadata": {
    "application/vnd.databricks.v1+cell": {
     "cellMetadata": {
      "byteLimit": 2048000,
      "rowLimit": 10000
     },
     "inputWidgets": {},
     "nuid": "ba00c757-b6b8-4dae-943f-8e12e580abf2",
     "showTitle": false,
     "title": ""
    }
   },
   "source": [
    "### Import Functions SQL (PySpark)"
   ]
  },
  {
   "cell_type": "code",
   "execution_count": 0,
   "metadata": {
    "application/vnd.databricks.v1+cell": {
     "cellMetadata": {
      "byteLimit": 2048000,
      "rowLimit": 10000
     },
     "inputWidgets": {},
     "nuid": "99c32f52-b477-4687-a433-f24654303d1c",
     "showTitle": true,
     "title": "Import Functions SQL (PySpark)"
    }
   },
   "outputs": [
    {
     "output_type": "display_data",
     "data": {
      "text/html": [
       "<style scoped>\n",
       "  .ansiout {\n",
       "    display: block;\n",
       "    unicode-bidi: embed;\n",
       "    white-space: pre-wrap;\n",
       "    word-wrap: break-word;\n",
       "    word-break: break-all;\n",
       "    font-family: \"Source Code Pro\", \"Menlo\", monospace;;\n",
       "    font-size: 13px;\n",
       "    color: #555;\n",
       "    margin-left: 4px;\n",
       "    line-height: 19px;\n",
       "  }\n",
       "</style>\n",
       "<div class=\"ansiout\"></div>"
      ]
     },
     "metadata": {
      "application/vnd.databricks.v1+output": {
       "addedWidgets": {},
       "arguments": {},
       "data": "<div class=\"ansiout\"></div>",
       "datasetInfos": [],
       "metadata": {},
       "removedWidgets": [],
       "type": "html"
      }
     },
     "output_type": "display_data"
    }
   ],
   "source": [
    "# Import SQL Functions\n",
    "import pyspark.sql.functions as fn\n",
    "\n",
    "from pyspark.sql.functions import desc, asc\n",
    "from pyspark.sql.functions import when\n",
    "from pyspark.sql.functions import *\n",
    "\n",
    "from pyspark.sql.window import Window\n",
    "from pyspark.sql.functions import row_number"
   ]
  },
  {
   "cell_type": "markdown",
   "metadata": {
    "application/vnd.databricks.v1+cell": {
     "cellMetadata": {
      "byteLimit": 2048000,
      "rowLimit": 10000
     },
     "inputWidgets": {},
     "nuid": "420a515d-d445-4fda-8c1a-45aa3014b789",
     "showTitle": false,
     "title": ""
    }
   },
   "source": [
    "## Conectando"
   ]
  },
  {
   "cell_type": "code",
   "execution_count": 0,
   "metadata": {
    "application/vnd.databricks.v1+cell": {
     "cellMetadata": {
      "byteLimit": 2048000,
      "rowLimit": 10000
     },
     "inputWidgets": {},
     "nuid": "02089e87-86b8-4c93-93bd-29083ed920a9",
     "showTitle": true,
     "title": "Conection"
    }
   },
   "outputs": [
    {
     "output_type": "display_data",
     "data": {
      "text/html": [
       "<style scoped>\n",
       "  .ansiout {\n",
       "    display: block;\n",
       "    unicode-bidi: embed;\n",
       "    white-space: pre-wrap;\n",
       "    word-wrap: break-word;\n",
       "    word-break: break-all;\n",
       "    font-family: \"Source Code Pro\", \"Menlo\", monospace;;\n",
       "    font-size: 13px;\n",
       "    color: #555;\n",
       "    margin-left: 4px;\n",
       "    line-height: 19px;\n",
       "  }\n",
       "</style>\n",
       "<div class=\"ansiout\"></div>"
      ]
     },
     "metadata": {
      "application/vnd.databricks.v1+output": {
       "addedWidgets": {},
       "arguments": {},
       "data": "<div class=\"ansiout\"></div>",
       "datasetInfos": [],
       "metadata": {},
       "removedWidgets": [],
       "type": "html"
      }
     },
     "output_type": "display_data"
    }
   ],
   "source": [
    "# Utilizando a Access Key da Storage Account\n",
    "\n",
    "spark.conf.set(\"fs.azure.account.key.saneobanklucas.dfs.core.windows.net\", \n",
    "               \"vwzvt5OqOoUhdCK62Jou9tF67bGU38Qrj4FgjzC3zQSS2hSxESla14QU+PXuxk+pLd1+k3Ym2dKd+AStbY19lQ==\"\n",
    "               )"
   ]
  },
  {
   "cell_type": "markdown",
   "metadata": {
    "application/vnd.databricks.v1+cell": {
     "cellMetadata": {
      "byteLimit": 2048000,
      "rowLimit": 10000
     },
     "inputWidgets": {},
     "nuid": "e5ba11d2-09dd-4312-9ff4-3f01d55e37d0",
     "showTitle": false,
     "title": ""
    }
   },
   "source": [
    "## Extraindo os Arquivos (fonte / destino)"
   ]
  },
  {
   "cell_type": "code",
   "execution_count": 0,
   "metadata": {
    "application/vnd.databricks.v1+cell": {
     "cellMetadata": {
      "byteLimit": 2048000,
      "rowLimit": 10000
     },
     "inputWidgets": {},
     "nuid": "88105608-0fa6-4de0-b564-2ffb29900ae6",
     "showTitle": true,
     "title": "Extraindo os arquivos (fonte / destino)"
    }
   },
   "outputs": [
    {
     "output_type": "display_data",
     "data": {
      "text/html": [
       "<style scoped>\n",
       "  .ansiout {\n",
       "    display: block;\n",
       "    unicode-bidi: embed;\n",
       "    white-space: pre-wrap;\n",
       "    word-wrap: break-word;\n",
       "    word-break: break-all;\n",
       "    font-family: \"Source Code Pro\", \"Menlo\", monospace;;\n",
       "    font-size: 13px;\n",
       "    color: #555;\n",
       "    margin-left: 4px;\n",
       "    line-height: 19px;\n",
       "  }\n",
       "</style>\n",
       "<div class=\"ansiout\"></div>"
      ]
     },
     "metadata": {
      "application/vnd.databricks.v1+output": {
       "addedWidgets": {},
       "arguments": {},
       "data": "<div class=\"ansiout\"></div>",
       "datasetInfos": [],
       "metadata": {},
       "removedWidgets": [],
       "type": "html"
      }
     },
     "output_type": "display_data"
    }
   ],
   "source": [
    "path_bronze = \"abfss://bronze@saneobanklucas.dfs.core.windows.net/\"\n",
    "path_gold   = \"abfss://gold@saneobanklucas.dfs.core.windows.net/\"\n",
    "\n",
    "dfClientSRC = (spark\n",
    "               .read\n",
    "               .format(\"csv\")\n",
    "               .option(\"delimiter\", \",\")\n",
    "               .option(\"header\", \"true\")\n",
    "               .option(\"inferschema\", \"true\")\n",
    "               .load(path_bronze + 'NeoBank_Modelling_Source.csv')\n",
    "               )\n",
    "\n",
    "dfClientTAG = (spark\n",
    "               .read\n",
    "               .format(\"csv\")\n",
    "               .option(\"delimiter\", \",\")\n",
    "               .option(\"header\", \"true\")\n",
    "               .option(\"inferschema\", \"true\")\n",
    "               .load(path_gold + 'NeoBank_Modelling.csv')\n",
    "               )"
   ]
  },
  {
   "cell_type": "code",
   "execution_count": 0,
   "metadata": {
    "application/vnd.databricks.v1+cell": {
     "cellMetadata": {
      "byteLimit": 2048000,
      "rowLimit": 10000
     },
     "inputWidgets": {},
     "nuid": "5d26b325-7a04-48a4-9f46-2c66d2ab936c",
     "showTitle": false,
     "title": ""
    }
   },
   "outputs": [
    {
     "output_type": "display_data",
     "data": {
      "text/html": [
       "<style scoped>\n",
       "  .table-result-container {\n",
       "    max-height: 300px;\n",
       "    overflow: auto;\n",
       "  }\n",
       "  table, th, td {\n",
       "    border: 1px solid black;\n",
       "    border-collapse: collapse;\n",
       "  }\n",
       "  th, td {\n",
       "    padding: 5px;\n",
       "  }\n",
       "  th {\n",
       "    text-align: left;\n",
       "  }\n",
       "</style><div class='table-result-container'><table class='table-result'><thead style='background-color: white'><tr><th>RowNumber</th><th>CustomerId</th><th>Surname</th><th>CreditScore</th><th>Geography</th><th>Gender</th><th>Age</th><th>Tenure</th><th>Balance</th><th>NumOfProducts</th><th>HasCrCard</th><th>IsActiveMember</th><th>EstimatedSalary</th><th>Exited</th></tr></thead><tbody><tr><td>10001</td><td>15628319</td><td>Jack da Silva - MAJ</td><td>792</td><td>Canada</td><td>Male</td><td>28</td><td>4</td><td>86555.79</td><td>1</td><td>1</td><td>1</td><td>45000.78</td><td>0</td></tr><tr><td>10001</td><td>215628319</td><td>New Cliente</td><td>500</td><td>Canada</td><td>Male</td><td>28</td><td>4</td><td>86555.79</td><td>1</td><td>1</td><td>1</td><td>45000.78</td><td>0</td></tr></tbody></table></div>"
      ]
     },
     "metadata": {
      "application/vnd.databricks.v1+output": {
       "addedWidgets": {},
       "aggData": [],
       "aggError": "",
       "aggOverflow": false,
       "aggSchema": [],
       "aggSeriesLimitReached": false,
       "aggType": "",
       "arguments": {},
       "columnCustomDisplayInfos": {},
       "data": [
        [
         10001,
         15628319,
         "Jack da Silva - MAJ",
         792,
         "Canada",
         "Male",
         28,
         4,
         86555.79,
         1,
         1,
         1,
         45000.78,
         0
        ],
        [
         10001,
         215628319,
         "New Cliente",
         500,
         "Canada",
         "Male",
         28,
         4,
         86555.79,
         1,
         1,
         1,
         45000.78,
         0
        ]
       ],
       "datasetInfos": [],
       "dbfsResultPath": null,
       "isJsonSchema": true,
       "metadata": {},
       "overflow": false,
       "plotOptions": {
        "customPlotOptions": {},
        "displayType": "table",
        "pivotAggregation": null,
        "pivotColumns": null,
        "xColumns": null,
        "yColumns": null
       },
       "removedWidgets": [],
       "schema": [
        {
         "metadata": "{}",
         "name": "RowNumber",
         "type": "\"integer\""
        },
        {
         "metadata": "{}",
         "name": "CustomerId",
         "type": "\"integer\""
        },
        {
         "metadata": "{}",
         "name": "Surname",
         "type": "\"string\""
        },
        {
         "metadata": "{}",
         "name": "CreditScore",
         "type": "\"integer\""
        },
        {
         "metadata": "{}",
         "name": "Geography",
         "type": "\"string\""
        },
        {
         "metadata": "{}",
         "name": "Gender",
         "type": "\"string\""
        },
        {
         "metadata": "{}",
         "name": "Age",
         "type": "\"integer\""
        },
        {
         "metadata": "{}",
         "name": "Tenure",
         "type": "\"integer\""
        },
        {
         "metadata": "{}",
         "name": "Balance",
         "type": "\"double\""
        },
        {
         "metadata": "{}",
         "name": "NumOfProducts",
         "type": "\"integer\""
        },
        {
         "metadata": "{}",
         "name": "HasCrCard",
         "type": "\"integer\""
        },
        {
         "metadata": "{}",
         "name": "IsActiveMember",
         "type": "\"integer\""
        },
        {
         "metadata": "{}",
         "name": "EstimatedSalary",
         "type": "\"double\""
        },
        {
         "metadata": "{}",
         "name": "Exited",
         "type": "\"integer\""
        }
       ],
       "type": "table"
      }
     },
     "output_type": "display_data"
    },
    {
     "output_type": "display_data",
     "data": {
      "text/html": [
       "<style scoped>\n",
       "  .table-result-container {\n",
       "    max-height: 300px;\n",
       "    overflow: auto;\n",
       "  }\n",
       "  table, th, td {\n",
       "    border: 1px solid black;\n",
       "    border-collapse: collapse;\n",
       "  }\n",
       "  th, td {\n",
       "    padding: 5px;\n",
       "  }\n",
       "  th {\n",
       "    text-align: left;\n",
       "  }\n",
       "</style><div class='table-result-container'><table class='table-result'><thead style='background-color: white'><tr><th>RowNumber</th><th>CustomerId</th><th>Surname</th><th>CreditScore</th><th>Geography</th><th>Gender</th><th>Age</th><th>Tenure</th><th>Balance</th><th>NumOfProducts</th><th>HasCrCard</th><th>IsActiveMember</th><th>EstimatedSalary</th><th>Exited</th></tr></thead><tbody><tr><td>1</td><td>15634602</td><td>Hargrave</td><td>619</td><td>France</td><td>Female</td><td>42</td><td>2</td><td>0.0</td><td>1</td><td>1</td><td>1</td><td>101348.88</td><td>1</td></tr><tr><td>2</td><td>15647311</td><td>Hill</td><td>608</td><td>Spain</td><td>Female</td><td>41</td><td>1</td><td>83807.86</td><td>1</td><td>0</td><td>1</td><td>112542.58</td><td>0</td></tr><tr><td>3</td><td>15619304</td><td>Onio</td><td>502</td><td>France</td><td>Female</td><td>42</td><td>8</td><td>159660.8</td><td>3</td><td>1</td><td>0</td><td>113931.57</td><td>1</td></tr><tr><td>4</td><td>15701354</td><td>Boni</td><td>699</td><td>France</td><td>Female</td><td>39</td><td>1</td><td>0.0</td><td>2</td><td>0</td><td>0</td><td>93826.63</td><td>0</td></tr><tr><td>5</td><td>15737888</td><td>Mitchell</td><td>850</td><td>Spain</td><td>Female</td><td>43</td><td>2</td><td>125510.82</td><td>1</td><td>1</td><td>1</td><td>79084.1</td><td>0</td></tr><tr><td>6</td><td>15574012</td><td>Chu</td><td>645</td><td>Spain</td><td>Male</td><td>44</td><td>8</td><td>113755.78</td><td>2</td><td>1</td><td>0</td><td>149756.71</td><td>1</td></tr><tr><td>7</td><td>15592531</td><td>Bartlett</td><td>822</td><td>France</td><td>Male</td><td>50</td><td>7</td><td>0.0</td><td>2</td><td>1</td><td>1</td><td>10062.8</td><td>0</td></tr><tr><td>8</td><td>15656148</td><td>Obinna</td><td>376</td><td>Germany</td><td>Female</td><td>29</td><td>4</td><td>115046.74</td><td>4</td><td>1</td><td>0</td><td>119346.88</td><td>1</td></tr><tr><td>9</td><td>15792365</td><td>He</td><td>501</td><td>France</td><td>Male</td><td>44</td><td>4</td><td>142051.07</td><td>2</td><td>0</td><td>1</td><td>74940.5</td><td>0</td></tr><tr><td>10</td><td>15592389</td><td>H?</td><td>684</td><td>France</td><td>Male</td><td>27</td><td>2</td><td>134603.88</td><td>1</td><td>1</td><td>1</td><td>71725.73</td><td>0</td></tr></tbody></table></div>"
      ]
     },
     "metadata": {
      "application/vnd.databricks.v1+output": {
       "addedWidgets": {},
       "aggData": [],
       "aggError": "",
       "aggOverflow": false,
       "aggSchema": [],
       "aggSeriesLimitReached": false,
       "aggType": "",
       "arguments": {},
       "columnCustomDisplayInfos": {},
       "data": [
        [
         1,
         15634602,
         "Hargrave",
         619,
         "France",
         "Female",
         42,
         2,
         0.0,
         1,
         1,
         1,
         101348.88,
         1
        ],
        [
         2,
         15647311,
         "Hill",
         608,
         "Spain",
         "Female",
         41,
         1,
         83807.86,
         1,
         0,
         1,
         112542.58,
         0
        ],
        [
         3,
         15619304,
         "Onio",
         502,
         "France",
         "Female",
         42,
         8,
         159660.8,
         3,
         1,
         0,
         113931.57,
         1
        ],
        [
         4,
         15701354,
         "Boni",
         699,
         "France",
         "Female",
         39,
         1,
         0.0,
         2,
         0,
         0,
         93826.63,
         0
        ],
        [
         5,
         15737888,
         "Mitchell",
         850,
         "Spain",
         "Female",
         43,
         2,
         125510.82,
         1,
         1,
         1,
         79084.1,
         0
        ],
        [
         6,
         15574012,
         "Chu",
         645,
         "Spain",
         "Male",
         44,
         8,
         113755.78,
         2,
         1,
         0,
         149756.71,
         1
        ],
        [
         7,
         15592531,
         "Bartlett",
         822,
         "France",
         "Male",
         50,
         7,
         0.0,
         2,
         1,
         1,
         10062.8,
         0
        ],
        [
         8,
         15656148,
         "Obinna",
         376,
         "Germany",
         "Female",
         29,
         4,
         115046.74,
         4,
         1,
         0,
         119346.88,
         1
        ],
        [
         9,
         15792365,
         "He",
         501,
         "France",
         "Male",
         44,
         4,
         142051.07,
         2,
         0,
         1,
         74940.5,
         0
        ],
        [
         10,
         15592389,
         "H?",
         684,
         "France",
         "Male",
         27,
         2,
         134603.88,
         1,
         1,
         1,
         71725.73,
         0
        ]
       ],
       "datasetInfos": [],
       "dbfsResultPath": null,
       "isJsonSchema": true,
       "metadata": {},
       "overflow": false,
       "plotOptions": {
        "customPlotOptions": {},
        "displayType": "table",
        "pivotAggregation": null,
        "pivotColumns": null,
        "xColumns": null,
        "yColumns": null
       },
       "removedWidgets": [],
       "schema": [
        {
         "metadata": "{}",
         "name": "RowNumber",
         "type": "\"integer\""
        },
        {
         "metadata": "{}",
         "name": "CustomerId",
         "type": "\"integer\""
        },
        {
         "metadata": "{}",
         "name": "Surname",
         "type": "\"string\""
        },
        {
         "metadata": "{}",
         "name": "CreditScore",
         "type": "\"integer\""
        },
        {
         "metadata": "{}",
         "name": "Geography",
         "type": "\"string\""
        },
        {
         "metadata": "{}",
         "name": "Gender",
         "type": "\"string\""
        },
        {
         "metadata": "{}",
         "name": "Age",
         "type": "\"integer\""
        },
        {
         "metadata": "{}",
         "name": "Tenure",
         "type": "\"integer\""
        },
        {
         "metadata": "{}",
         "name": "Balance",
         "type": "\"double\""
        },
        {
         "metadata": "{}",
         "name": "NumOfProducts",
         "type": "\"integer\""
        },
        {
         "metadata": "{}",
         "name": "HasCrCard",
         "type": "\"integer\""
        },
        {
         "metadata": "{}",
         "name": "IsActiveMember",
         "type": "\"integer\""
        },
        {
         "metadata": "{}",
         "name": "EstimatedSalary",
         "type": "\"double\""
        },
        {
         "metadata": "{}",
         "name": "Exited",
         "type": "\"integer\""
        }
       ],
       "type": "table"
      }
     },
     "output_type": "display_data"
    }
   ],
   "source": [
    "dfClientSRC.display()\n",
    "dfClientTAG.limit(10).display()"
   ]
  },
  {
   "cell_type": "markdown",
   "metadata": {
    "application/vnd.databricks.v1+cell": {
     "cellMetadata": {
      "byteLimit": 2048000,
      "rowLimit": 10000
     },
     "inputWidgets": {},
     "nuid": "24bbbb0a-9cc7-4d74-a90b-c8abea50f1c4",
     "showTitle": false,
     "title": ""
    }
   },
   "source": [
    "## Realizando Transformações"
   ]
  },
  {
   "cell_type": "markdown",
   "metadata": {
    "application/vnd.databricks.v1+cell": {
     "cellMetadata": {
      "byteLimit": 2048000,
      "rowLimit": 10000
     },
     "inputWidgets": {},
     "nuid": "29a6c715-5e76-4285-baba-e4a8b4a9c704",
     "showTitle": false,
     "title": ""
    }
   },
   "source": [
    "### Filtro de Ativos"
   ]
  },
  {
   "cell_type": "code",
   "execution_count": 0,
   "metadata": {
    "application/vnd.databricks.v1+cell": {
     "cellMetadata": {
      "byteLimit": 2048000,
      "rowLimit": 10000
     },
     "inputWidgets": {},
     "nuid": "452a9bae-474a-4a12-93b0-d9b6d97d4b29",
     "showTitle": true,
     "title": "Filtro de Ativos"
    }
   },
   "outputs": [
    {
     "output_type": "display_data",
     "data": {
      "text/html": [
       "<style scoped>\n",
       "  .table-result-container {\n",
       "    max-height: 300px;\n",
       "    overflow: auto;\n",
       "  }\n",
       "  table, th, td {\n",
       "    border: 1px solid black;\n",
       "    border-collapse: collapse;\n",
       "  }\n",
       "  th, td {\n",
       "    padding: 5px;\n",
       "  }\n",
       "  th {\n",
       "    text-align: left;\n",
       "  }\n",
       "</style><div class='table-result-container'><table class='table-result'><thead style='background-color: white'><tr><th>RowNumber</th><th>CustomerId</th><th>Surname</th><th>CreditScore</th><th>Geography</th><th>Gender</th><th>Age</th><th>Tenure</th><th>Balance</th><th>NumOfProducts</th><th>HasCrCard</th><th>IsActiveMember</th><th>EstimatedSalary</th><th>Exited</th></tr></thead><tbody><tr><td>10001</td><td>215628319</td><td>New Cliente</td><td>500</td><td>Canada</td><td>Male</td><td>28</td><td>4</td><td>86555.79</td><td>1</td><td>1</td><td>1</td><td>45000.78</td><td>0</td></tr><tr><td>10001</td><td>15628319</td><td>Jack da Silva - MAJ</td><td>792</td><td>Canada</td><td>Male</td><td>28</td><td>4</td><td>86555.79</td><td>1</td><td>1</td><td>1</td><td>45000.78</td><td>0</td></tr></tbody></table></div>"
      ]
     },
     "metadata": {
      "application/vnd.databricks.v1+output": {
       "addedWidgets": {},
       "aggData": [],
       "aggError": "",
       "aggOverflow": false,
       "aggSchema": [],
       "aggSeriesLimitReached": false,
       "aggType": "",
       "arguments": {},
       "columnCustomDisplayInfos": {},
       "data": [
        [
         10001,
         215628319,
         "New Cliente",
         500,
         "Canada",
         "Male",
         28,
         4,
         86555.79,
         1,
         1,
         1,
         45000.78,
         0
        ],
        [
         10001,
         15628319,
         "Jack da Silva - MAJ",
         792,
         "Canada",
         "Male",
         28,
         4,
         86555.79,
         1,
         1,
         1,
         45000.78,
         0
        ]
       ],
       "datasetInfos": [],
       "dbfsResultPath": null,
       "isJsonSchema": true,
       "metadata": {},
       "overflow": false,
       "plotOptions": {
        "customPlotOptions": {},
        "displayType": "table",
        "pivotAggregation": null,
        "pivotColumns": null,
        "xColumns": null,
        "yColumns": null
       },
       "removedWidgets": [],
       "schema": [
        {
         "metadata": "{}",
         "name": "RowNumber",
         "type": "\"integer\""
        },
        {
         "metadata": "{}",
         "name": "CustomerId",
         "type": "\"integer\""
        },
        {
         "metadata": "{}",
         "name": "Surname",
         "type": "\"string\""
        },
        {
         "metadata": "{}",
         "name": "CreditScore",
         "type": "\"integer\""
        },
        {
         "metadata": "{}",
         "name": "Geography",
         "type": "\"string\""
        },
        {
         "metadata": "{}",
         "name": "Gender",
         "type": "\"string\""
        },
        {
         "metadata": "{}",
         "name": "Age",
         "type": "\"integer\""
        },
        {
         "metadata": "{}",
         "name": "Tenure",
         "type": "\"integer\""
        },
        {
         "metadata": "{}",
         "name": "Balance",
         "type": "\"double\""
        },
        {
         "metadata": "{}",
         "name": "NumOfProducts",
         "type": "\"integer\""
        },
        {
         "metadata": "{}",
         "name": "HasCrCard",
         "type": "\"integer\""
        },
        {
         "metadata": "{}",
         "name": "IsActiveMember",
         "type": "\"integer\""
        },
        {
         "metadata": "{}",
         "name": "EstimatedSalary",
         "type": "\"double\""
        },
        {
         "metadata": "{}",
         "name": "Exited",
         "type": "\"integer\""
        }
       ],
       "type": "table"
      }
     },
     "output_type": "display_data"
    }
   ],
   "source": [
    "dfClientSRC = (dfClientSRC\n",
    "               .drop_duplicates()\n",
    "               .filter(fn.col('IsActiveMember') == 1)\n",
    "               )\n",
    "\n",
    "dfClientSRC.display()"
   ]
  },
  {
   "cell_type": "markdown",
   "metadata": {
    "application/vnd.databricks.v1+cell": {
     "cellMetadata": {
      "byteLimit": 2048000,
      "rowLimit": 10000
     },
     "inputWidgets": {},
     "nuid": "6e33190e-34e6-464d-a5a4-bc47bb818580",
     "showTitle": false,
     "title": ""
    }
   },
   "source": [
    "### Renomear Colunas"
   ]
  },
  {
   "cell_type": "code",
   "execution_count": 0,
   "metadata": {
    "application/vnd.databricks.v1+cell": {
     "cellMetadata": {
      "byteLimit": 2048000,
      "rowLimit": 10000
     },
     "inputWidgets": {},
     "nuid": "dd2ad6f9-639f-421f-999e-73c414e45dd5",
     "showTitle": true,
     "title": "Renomear Colunas"
    }
   },
   "outputs": [
    {
     "output_type": "display_data",
     "data": {
      "text/html": [
       "<style scoped>\n",
       "  .table-result-container {\n",
       "    max-height: 300px;\n",
       "    overflow: auto;\n",
       "  }\n",
       "  table, th, td {\n",
       "    border: 1px solid black;\n",
       "    border-collapse: collapse;\n",
       "  }\n",
       "  th, td {\n",
       "    padding: 5px;\n",
       "  }\n",
       "  th {\n",
       "    text-align: left;\n",
       "  }\n",
       "</style><div class='table-result-container'><table class='table-result'><thead style='background-color: white'><tr><th>RowNumber_SRC</th><th>CustomerId_SRC</th><th>Surname_SRC</th><th>CreditScore_SRC</th><th>Geography_SRC</th><th>Gender_SRC</th><th>Age_SRC</th><th>Tenure_SRC</th><th>Balance_SRC</th><th>NumOfProducts_SRC</th><th>HasCrCard_SRC</th><th>IsActiveMember_SRC</th><th>EstimatedSalary_SRC</th><th>Exited_SRC</th></tr></thead><tbody><tr><td>10001</td><td>215628319</td><td>New Cliente</td><td>500</td><td>Canada</td><td>Male</td><td>28</td><td>4</td><td>86555.79</td><td>1</td><td>1</td><td>1</td><td>45000.78</td><td>0</td></tr><tr><td>10001</td><td>15628319</td><td>Jack da Silva - MAJ</td><td>792</td><td>Canada</td><td>Male</td><td>28</td><td>4</td><td>86555.79</td><td>1</td><td>1</td><td>1</td><td>45000.78</td><td>0</td></tr></tbody></table></div>"
      ]
     },
     "metadata": {
      "application/vnd.databricks.v1+output": {
       "addedWidgets": {},
       "aggData": [],
       "aggError": "",
       "aggOverflow": false,
       "aggSchema": [],
       "aggSeriesLimitReached": false,
       "aggType": "",
       "arguments": {},
       "columnCustomDisplayInfos": {},
       "data": [
        [
         10001,
         215628319,
         "New Cliente",
         500,
         "Canada",
         "Male",
         28,
         4,
         86555.79,
         1,
         1,
         1,
         45000.78,
         0
        ],
        [
         10001,
         15628319,
         "Jack da Silva - MAJ",
         792,
         "Canada",
         "Male",
         28,
         4,
         86555.79,
         1,
         1,
         1,
         45000.78,
         0
        ]
       ],
       "datasetInfos": [],
       "dbfsResultPath": null,
       "isJsonSchema": true,
       "metadata": {},
       "overflow": false,
       "plotOptions": {
        "customPlotOptions": {},
        "displayType": "table",
        "pivotAggregation": null,
        "pivotColumns": null,
        "xColumns": null,
        "yColumns": null
       },
       "removedWidgets": [],
       "schema": [
        {
         "metadata": "{}",
         "name": "RowNumber_SRC",
         "type": "\"integer\""
        },
        {
         "metadata": "{}",
         "name": "CustomerId_SRC",
         "type": "\"integer\""
        },
        {
         "metadata": "{}",
         "name": "Surname_SRC",
         "type": "\"string\""
        },
        {
         "metadata": "{}",
         "name": "CreditScore_SRC",
         "type": "\"integer\""
        },
        {
         "metadata": "{}",
         "name": "Geography_SRC",
         "type": "\"string\""
        },
        {
         "metadata": "{}",
         "name": "Gender_SRC",
         "type": "\"string\""
        },
        {
         "metadata": "{}",
         "name": "Age_SRC",
         "type": "\"integer\""
        },
        {
         "metadata": "{}",
         "name": "Tenure_SRC",
         "type": "\"integer\""
        },
        {
         "metadata": "{}",
         "name": "Balance_SRC",
         "type": "\"double\""
        },
        {
         "metadata": "{}",
         "name": "NumOfProducts_SRC",
         "type": "\"integer\""
        },
        {
         "metadata": "{}",
         "name": "HasCrCard_SRC",
         "type": "\"integer\""
        },
        {
         "metadata": "{}",
         "name": "IsActiveMember_SRC",
         "type": "\"integer\""
        },
        {
         "metadata": "{}",
         "name": "EstimatedSalary_SRC",
         "type": "\"double\""
        },
        {
         "metadata": "{}",
         "name": "Exited_SRC",
         "type": "\"integer\""
        }
       ],
       "type": "table"
      }
     },
     "output_type": "display_data"
    },
    {
     "output_type": "display_data",
     "data": {
      "text/html": [
       "<style scoped>\n",
       "  .table-result-container {\n",
       "    max-height: 300px;\n",
       "    overflow: auto;\n",
       "  }\n",
       "  table, th, td {\n",
       "    border: 1px solid black;\n",
       "    border-collapse: collapse;\n",
       "  }\n",
       "  th, td {\n",
       "    padding: 5px;\n",
       "  }\n",
       "  th {\n",
       "    text-align: left;\n",
       "  }\n",
       "</style><div class='table-result-container'><table class='table-result'><thead style='background-color: white'><tr><th>RowNumber_TAG</th><th>CustomerId_TAG</th><th>Surname_TAG</th><th>CreditScore_TAG</th><th>Geography_TAG</th><th>Gender_TAG</th><th>Age_TAG</th><th>Tenure_TAG</th><th>Balance_TAG</th><th>NumOfProducts_TAG</th><th>HasCrCard_TAG</th><th>IsActiveMember_TAG</th><th>EstimatedSalary_TAG</th><th>Exited_TAG</th></tr></thead><tbody><tr><td>1</td><td>15634602</td><td>Hargrave</td><td>619</td><td>France</td><td>Female</td><td>42</td><td>2</td><td>0.0</td><td>1</td><td>1</td><td>1</td><td>101348.88</td><td>1</td></tr><tr><td>2</td><td>15647311</td><td>Hill</td><td>608</td><td>Spain</td><td>Female</td><td>41</td><td>1</td><td>83807.86</td><td>1</td><td>0</td><td>1</td><td>112542.58</td><td>0</td></tr><tr><td>3</td><td>15619304</td><td>Onio</td><td>502</td><td>France</td><td>Female</td><td>42</td><td>8</td><td>159660.8</td><td>3</td><td>1</td><td>0</td><td>113931.57</td><td>1</td></tr><tr><td>4</td><td>15701354</td><td>Boni</td><td>699</td><td>France</td><td>Female</td><td>39</td><td>1</td><td>0.0</td><td>2</td><td>0</td><td>0</td><td>93826.63</td><td>0</td></tr><tr><td>5</td><td>15737888</td><td>Mitchell</td><td>850</td><td>Spain</td><td>Female</td><td>43</td><td>2</td><td>125510.82</td><td>1</td><td>1</td><td>1</td><td>79084.1</td><td>0</td></tr><tr><td>6</td><td>15574012</td><td>Chu</td><td>645</td><td>Spain</td><td>Male</td><td>44</td><td>8</td><td>113755.78</td><td>2</td><td>1</td><td>0</td><td>149756.71</td><td>1</td></tr><tr><td>7</td><td>15592531</td><td>Bartlett</td><td>822</td><td>France</td><td>Male</td><td>50</td><td>7</td><td>0.0</td><td>2</td><td>1</td><td>1</td><td>10062.8</td><td>0</td></tr><tr><td>8</td><td>15656148</td><td>Obinna</td><td>376</td><td>Germany</td><td>Female</td><td>29</td><td>4</td><td>115046.74</td><td>4</td><td>1</td><td>0</td><td>119346.88</td><td>1</td></tr><tr><td>9</td><td>15792365</td><td>He</td><td>501</td><td>France</td><td>Male</td><td>44</td><td>4</td><td>142051.07</td><td>2</td><td>0</td><td>1</td><td>74940.5</td><td>0</td></tr><tr><td>10</td><td>15592389</td><td>H?</td><td>684</td><td>France</td><td>Male</td><td>27</td><td>2</td><td>134603.88</td><td>1</td><td>1</td><td>1</td><td>71725.73</td><td>0</td></tr></tbody></table></div>"
      ]
     },
     "metadata": {
      "application/vnd.databricks.v1+output": {
       "addedWidgets": {},
       "aggData": [],
       "aggError": "",
       "aggOverflow": false,
       "aggSchema": [],
       "aggSeriesLimitReached": false,
       "aggType": "",
       "arguments": {},
       "columnCustomDisplayInfos": {},
       "data": [
        [
         1,
         15634602,
         "Hargrave",
         619,
         "France",
         "Female",
         42,
         2,
         0.0,
         1,
         1,
         1,
         101348.88,
         1
        ],
        [
         2,
         15647311,
         "Hill",
         608,
         "Spain",
         "Female",
         41,
         1,
         83807.86,
         1,
         0,
         1,
         112542.58,
         0
        ],
        [
         3,
         15619304,
         "Onio",
         502,
         "France",
         "Female",
         42,
         8,
         159660.8,
         3,
         1,
         0,
         113931.57,
         1
        ],
        [
         4,
         15701354,
         "Boni",
         699,
         "France",
         "Female",
         39,
         1,
         0.0,
         2,
         0,
         0,
         93826.63,
         0
        ],
        [
         5,
         15737888,
         "Mitchell",
         850,
         "Spain",
         "Female",
         43,
         2,
         125510.82,
         1,
         1,
         1,
         79084.1,
         0
        ],
        [
         6,
         15574012,
         "Chu",
         645,
         "Spain",
         "Male",
         44,
         8,
         113755.78,
         2,
         1,
         0,
         149756.71,
         1
        ],
        [
         7,
         15592531,
         "Bartlett",
         822,
         "France",
         "Male",
         50,
         7,
         0.0,
         2,
         1,
         1,
         10062.8,
         0
        ],
        [
         8,
         15656148,
         "Obinna",
         376,
         "Germany",
         "Female",
         29,
         4,
         115046.74,
         4,
         1,
         0,
         119346.88,
         1
        ],
        [
         9,
         15792365,
         "He",
         501,
         "France",
         "Male",
         44,
         4,
         142051.07,
         2,
         0,
         1,
         74940.5,
         0
        ],
        [
         10,
         15592389,
         "H?",
         684,
         "France",
         "Male",
         27,
         2,
         134603.88,
         1,
         1,
         1,
         71725.73,
         0
        ]
       ],
       "datasetInfos": [],
       "dbfsResultPath": null,
       "isJsonSchema": true,
       "metadata": {},
       "overflow": false,
       "plotOptions": {
        "customPlotOptions": {},
        "displayType": "table",
        "pivotAggregation": null,
        "pivotColumns": null,
        "xColumns": null,
        "yColumns": null
       },
       "removedWidgets": [],
       "schema": [
        {
         "metadata": "{}",
         "name": "RowNumber_TAG",
         "type": "\"integer\""
        },
        {
         "metadata": "{}",
         "name": "CustomerId_TAG",
         "type": "\"integer\""
        },
        {
         "metadata": "{}",
         "name": "Surname_TAG",
         "type": "\"string\""
        },
        {
         "metadata": "{}",
         "name": "CreditScore_TAG",
         "type": "\"integer\""
        },
        {
         "metadata": "{}",
         "name": "Geography_TAG",
         "type": "\"string\""
        },
        {
         "metadata": "{}",
         "name": "Gender_TAG",
         "type": "\"string\""
        },
        {
         "metadata": "{}",
         "name": "Age_TAG",
         "type": "\"integer\""
        },
        {
         "metadata": "{}",
         "name": "Tenure_TAG",
         "type": "\"integer\""
        },
        {
         "metadata": "{}",
         "name": "Balance_TAG",
         "type": "\"double\""
        },
        {
         "metadata": "{}",
         "name": "NumOfProducts_TAG",
         "type": "\"integer\""
        },
        {
         "metadata": "{}",
         "name": "HasCrCard_TAG",
         "type": "\"integer\""
        },
        {
         "metadata": "{}",
         "name": "IsActiveMember_TAG",
         "type": "\"integer\""
        },
        {
         "metadata": "{}",
         "name": "EstimatedSalary_TAG",
         "type": "\"double\""
        },
        {
         "metadata": "{}",
         "name": "Exited_TAG",
         "type": "\"integer\""
        }
       ],
       "type": "table"
      }
     },
     "output_type": "display_data"
    }
   ],
   "source": [
    "# Renomear Source\n",
    "dfClientSRC = (dfClientSRC\n",
    "               .withColumnRenamed('RowNumber', 'RowNumber_SRC')\n",
    "               .withColumnRenamed('CustomerId', 'CustomerId_SRC')\n",
    "               .withColumnRenamed('Surname', 'Surname_SRC')\n",
    "               .withColumnRenamed('CreditScore', 'CreditScore_SRC')\n",
    "               .withColumnRenamed('Geography', 'Geography_SRC')\n",
    "               .withColumnRenamed('Gender', 'Gender_SRC')\n",
    "               .withColumnRenamed('Age', 'Age_SRC')\n",
    "               .withColumnRenamed('Tenure', 'Tenure_SRC')\n",
    "               .withColumnRenamed('Balance', 'Balance_SRC')\n",
    "               .withColumnRenamed('NumOfProducts', 'NumOfProducts_SRC')\n",
    "               .withColumnRenamed('HasCrCard', 'HasCrCard_SRC')\n",
    "               .withColumnRenamed('IsActiveMember', 'IsActiveMember_SRC')\n",
    "               .withColumnRenamed('EstimatedSalary', 'EstimatedSalary_SRC')\n",
    "               .withColumnRenamed('Exited', 'Exited_SRC')\n",
    "               )\n",
    "\n",
    "dfClientTAG = (dfClientTAG\n",
    "               .withColumnRenamed('RowNumber', 'RowNumber_TAG')\n",
    "               .withColumnRenamed('CustomerId', 'CustomerId_TAG')\n",
    "               .withColumnRenamed('Surname', 'Surname_TAG')\n",
    "               .withColumnRenamed('CreditScore', 'CreditScore_TAG')\n",
    "               .withColumnRenamed('Geography', 'Geography_TAG')\n",
    "               .withColumnRenamed('Gender', 'Gender_TAG')\n",
    "               .withColumnRenamed('Age', 'Age_TAG')\n",
    "               .withColumnRenamed('Tenure', 'Tenure_TAG')\n",
    "               .withColumnRenamed('Balance', 'Balance_TAG')\n",
    "               .withColumnRenamed('NumOfProducts', 'NumOfProducts_TAG')\n",
    "               .withColumnRenamed('HasCrCard', 'HasCrCard_TAG')\n",
    "               .withColumnRenamed('IsActiveMember', 'IsActiveMember_TAG')\n",
    "               .withColumnRenamed('EstimatedSalary', 'EstimatedSalary_TAG')\n",
    "               .withColumnRenamed('Exited', 'Exited_TAG')\n",
    "               )\n",
    "\n",
    "dfClientSRC.display()\n",
    "dfClientTAG.limit(10).display()"
   ]
  },
  {
   "cell_type": "markdown",
   "metadata": {
    "application/vnd.databricks.v1+cell": {
     "cellMetadata": {
      "byteLimit": 2048000,
      "rowLimit": 10000
     },
     "inputWidgets": {},
     "nuid": "02da661c-fea6-4ed6-9297-7c857da0efbf",
     "showTitle": false,
     "title": ""
    }
   },
   "source": [
    "### Join Source e TAG"
   ]
  },
  {
   "cell_type": "code",
   "execution_count": 0,
   "metadata": {
    "application/vnd.databricks.v1+cell": {
     "cellMetadata": {
      "byteLimit": 2048000,
      "rowLimit": 10000
     },
     "inputWidgets": {},
     "nuid": "0e6ba07a-e713-488f-83d1-34cb6b999f9b",
     "showTitle": true,
     "title": "Join Source e TAG"
    }
   },
   "outputs": [
    {
     "output_type": "display_data",
     "data": {
      "text/html": [
       "<style scoped>\n",
       "  .table-result-container {\n",
       "    max-height: 300px;\n",
       "    overflow: auto;\n",
       "  }\n",
       "  table, th, td {\n",
       "    border: 1px solid black;\n",
       "    border-collapse: collapse;\n",
       "  }\n",
       "  th, td {\n",
       "    padding: 5px;\n",
       "  }\n",
       "  th {\n",
       "    text-align: left;\n",
       "  }\n",
       "</style><div class='table-result-container'><table class='table-result'><thead style='background-color: white'><tr><th>RowNumber_SRC</th><th>CustomerId_SRC</th><th>Surname_SRC</th><th>CreditScore_SRC</th><th>Geography_SRC</th><th>Gender_SRC</th><th>Age_SRC</th><th>Tenure_SRC</th><th>Balance_SRC</th><th>NumOfProducts_SRC</th><th>HasCrCard_SRC</th><th>IsActiveMember_SRC</th><th>EstimatedSalary_SRC</th><th>Exited_SRC</th><th>RowNumber_TAG</th><th>CustomerId_TAG</th><th>Surname_TAG</th><th>CreditScore_TAG</th><th>Geography_TAG</th><th>Gender_TAG</th><th>Age_TAG</th><th>Tenure_TAG</th><th>Balance_TAG</th><th>NumOfProducts_TAG</th><th>HasCrCard_TAG</th><th>IsActiveMember_TAG</th><th>EstimatedSalary_TAG</th><th>Exited_TAG</th></tr></thead><tbody><tr><td>10001</td><td>215628319</td><td>New Cliente</td><td>500</td><td>Canada</td><td>Male</td><td>28</td><td>4</td><td>86555.79</td><td>1</td><td>1</td><td>1</td><td>45000.78</td><td>0</td><td>null</td><td>null</td><td>null</td><td>null</td><td>null</td><td>null</td><td>null</td><td>null</td><td>null</td><td>null</td><td>null</td><td>null</td><td>null</td><td>null</td></tr><tr><td>10001</td><td>15628319</td><td>Jack da Silva - MAJ</td><td>792</td><td>Canada</td><td>Male</td><td>28</td><td>4</td><td>86555.79</td><td>1</td><td>1</td><td>1</td><td>45000.78</td><td>0</td><td>10000</td><td>15628319</td><td>Walker</td><td>792</td><td>France</td><td>Female</td><td>28</td><td>4</td><td>130142.79</td><td>1</td><td>1</td><td>1</td><td>38190.78</td><td>0</td></tr></tbody></table></div>"
      ]
     },
     "metadata": {
      "application/vnd.databricks.v1+output": {
       "addedWidgets": {},
       "aggData": [],
       "aggError": "",
       "aggOverflow": false,
       "aggSchema": [],
       "aggSeriesLimitReached": false,
       "aggType": "",
       "arguments": {},
       "columnCustomDisplayInfos": {},
       "data": [
        [
         10001,
         215628319,
         "New Cliente",
         500,
         "Canada",
         "Male",
         28,
         4,
         86555.79,
         1,
         1,
         1,
         45000.78,
         0,
         null,
         null,
         null,
         null,
         null,
         null,
         null,
         null,
         null,
         null,
         null,
         null,
         null,
         null
        ],
        [
         10001,
         15628319,
         "Jack da Silva - MAJ",
         792,
         "Canada",
         "Male",
         28,
         4,
         86555.79,
         1,
         1,
         1,
         45000.78,
         0,
         10000,
         15628319,
         "Walker",
         792,
         "France",
         "Female",
         28,
         4,
         130142.79,
         1,
         1,
         1,
         38190.78,
         0
        ]
       ],
       "datasetInfos": [],
       "dbfsResultPath": null,
       "isJsonSchema": true,
       "metadata": {},
       "overflow": false,
       "plotOptions": {
        "customPlotOptions": {},
        "displayType": "table",
        "pivotAggregation": null,
        "pivotColumns": null,
        "xColumns": null,
        "yColumns": null
       },
       "removedWidgets": [],
       "schema": [
        {
         "metadata": "{}",
         "name": "RowNumber_SRC",
         "type": "\"integer\""
        },
        {
         "metadata": "{}",
         "name": "CustomerId_SRC",
         "type": "\"integer\""
        },
        {
         "metadata": "{}",
         "name": "Surname_SRC",
         "type": "\"string\""
        },
        {
         "metadata": "{}",
         "name": "CreditScore_SRC",
         "type": "\"integer\""
        },
        {
         "metadata": "{}",
         "name": "Geography_SRC",
         "type": "\"string\""
        },
        {
         "metadata": "{}",
         "name": "Gender_SRC",
         "type": "\"string\""
        },
        {
         "metadata": "{}",
         "name": "Age_SRC",
         "type": "\"integer\""
        },
        {
         "metadata": "{}",
         "name": "Tenure_SRC",
         "type": "\"integer\""
        },
        {
         "metadata": "{}",
         "name": "Balance_SRC",
         "type": "\"double\""
        },
        {
         "metadata": "{}",
         "name": "NumOfProducts_SRC",
         "type": "\"integer\""
        },
        {
         "metadata": "{}",
         "name": "HasCrCard_SRC",
         "type": "\"integer\""
        },
        {
         "metadata": "{}",
         "name": "IsActiveMember_SRC",
         "type": "\"integer\""
        },
        {
         "metadata": "{}",
         "name": "EstimatedSalary_SRC",
         "type": "\"double\""
        },
        {
         "metadata": "{}",
         "name": "Exited_SRC",
         "type": "\"integer\""
        },
        {
         "metadata": "{}",
         "name": "RowNumber_TAG",
         "type": "\"integer\""
        },
        {
         "metadata": "{}",
         "name": "CustomerId_TAG",
         "type": "\"integer\""
        },
        {
         "metadata": "{}",
         "name": "Surname_TAG",
         "type": "\"string\""
        },
        {
         "metadata": "{}",
         "name": "CreditScore_TAG",
         "type": "\"integer\""
        },
        {
         "metadata": "{}",
         "name": "Geography_TAG",
         "type": "\"string\""
        },
        {
         "metadata": "{}",
         "name": "Gender_TAG",
         "type": "\"string\""
        },
        {
         "metadata": "{}",
         "name": "Age_TAG",
         "type": "\"integer\""
        },
        {
         "metadata": "{}",
         "name": "Tenure_TAG",
         "type": "\"integer\""
        },
        {
         "metadata": "{}",
         "name": "Balance_TAG",
         "type": "\"double\""
        },
        {
         "metadata": "{}",
         "name": "NumOfProducts_TAG",
         "type": "\"integer\""
        },
        {
         "metadata": "{}",
         "name": "HasCrCard_TAG",
         "type": "\"integer\""
        },
        {
         "metadata": "{}",
         "name": "IsActiveMember_TAG",
         "type": "\"integer\""
        },
        {
         "metadata": "{}",
         "name": "EstimatedSalary_TAG",
         "type": "\"double\""
        },
        {
         "metadata": "{}",
         "name": "Exited_TAG",
         "type": "\"integer\""
        }
       ],
       "type": "table"
      }
     },
     "output_type": "display_data"
    }
   ],
   "source": [
    "dfClientJoin = dfClientSRC.join(dfClientTAG, dfClientSRC.CustomerId_SRC == dfClientTAG.CustomerId_TAG, 'left')\n",
    "\n",
    "dfClientJoin.display()"
   ]
  },
  {
   "cell_type": "markdown",
   "metadata": {
    "application/vnd.databricks.v1+cell": {
     "cellMetadata": {
      "byteLimit": 2048000,
      "rowLimit": 10000
     },
     "inputWidgets": {},
     "nuid": "bec65219-eac2-48e2-8ede-6881200c15c7",
     "showTitle": false,
     "title": ""
    }
   },
   "source": [
    "### Novos Clientes"
   ]
  },
  {
   "cell_type": "code",
   "execution_count": 0,
   "metadata": {
    "application/vnd.databricks.v1+cell": {
     "cellMetadata": {
      "byteLimit": 2048000,
      "rowLimit": 10000
     },
     "inputWidgets": {},
     "nuid": "980b2535-193a-452c-8f6e-5b2a012699b2",
     "showTitle": true,
     "title": "Novos Clientes"
    }
   },
   "outputs": [
    {
     "output_type": "display_data",
     "data": {
      "text/html": [
       "<style scoped>\n",
       "  .table-result-container {\n",
       "    max-height: 300px;\n",
       "    overflow: auto;\n",
       "  }\n",
       "  table, th, td {\n",
       "    border: 1px solid black;\n",
       "    border-collapse: collapse;\n",
       "  }\n",
       "  th, td {\n",
       "    padding: 5px;\n",
       "  }\n",
       "  th {\n",
       "    text-align: left;\n",
       "  }\n",
       "</style><div class='table-result-container'><table class='table-result'><thead style='background-color: white'><tr><th>RowNumber_SRC</th><th>CustomerId_SRC</th><th>Surname_SRC</th><th>CreditScore_SRC</th><th>Geography_SRC</th><th>Gender_SRC</th><th>Age_SRC</th><th>Tenure_SRC</th><th>Balance_SRC</th><th>NumOfProducts_SRC</th><th>HasCrCard_SRC</th><th>IsActiveMember_SRC</th><th>EstimatedSalary_SRC</th><th>Exited_SRC</th></tr></thead><tbody><tr><td>10001</td><td>215628319</td><td>New Cliente</td><td>500</td><td>Canada</td><td>Male</td><td>28</td><td>4</td><td>86555.79</td><td>1</td><td>1</td><td>1</td><td>45000.78</td><td>0</td></tr></tbody></table></div>"
      ]
     },
     "metadata": {
      "application/vnd.databricks.v1+output": {
       "addedWidgets": {},
       "aggData": [],
       "aggError": "",
       "aggOverflow": false,
       "aggSchema": [],
       "aggSeriesLimitReached": false,
       "aggType": "",
       "arguments": {},
       "columnCustomDisplayInfos": {},
       "data": [
        [
         10001,
         215628319,
         "New Cliente",
         500,
         "Canada",
         "Male",
         28,
         4,
         86555.79,
         1,
         1,
         1,
         45000.78,
         0
        ]
       ],
       "datasetInfos": [],
       "dbfsResultPath": null,
       "isJsonSchema": true,
       "metadata": {},
       "overflow": false,
       "plotOptions": {
        "customPlotOptions": {},
        "displayType": "table",
        "pivotAggregation": null,
        "pivotColumns": null,
        "xColumns": null,
        "yColumns": null
       },
       "removedWidgets": [],
       "schema": [
        {
         "metadata": "{}",
         "name": "RowNumber_SRC",
         "type": "\"integer\""
        },
        {
         "metadata": "{}",
         "name": "CustomerId_SRC",
         "type": "\"integer\""
        },
        {
         "metadata": "{}",
         "name": "Surname_SRC",
         "type": "\"string\""
        },
        {
         "metadata": "{}",
         "name": "CreditScore_SRC",
         "type": "\"integer\""
        },
        {
         "metadata": "{}",
         "name": "Geography_SRC",
         "type": "\"string\""
        },
        {
         "metadata": "{}",
         "name": "Gender_SRC",
         "type": "\"string\""
        },
        {
         "metadata": "{}",
         "name": "Age_SRC",
         "type": "\"integer\""
        },
        {
         "metadata": "{}",
         "name": "Tenure_SRC",
         "type": "\"integer\""
        },
        {
         "metadata": "{}",
         "name": "Balance_SRC",
         "type": "\"double\""
        },
        {
         "metadata": "{}",
         "name": "NumOfProducts_SRC",
         "type": "\"integer\""
        },
        {
         "metadata": "{}",
         "name": "HasCrCard_SRC",
         "type": "\"integer\""
        },
        {
         "metadata": "{}",
         "name": "IsActiveMember_SRC",
         "type": "\"integer\""
        },
        {
         "metadata": "{}",
         "name": "EstimatedSalary_SRC",
         "type": "\"double\""
        },
        {
         "metadata": "{}",
         "name": "Exited_SRC",
         "type": "\"integer\""
        }
       ],
       "type": "table"
      }
     },
     "output_type": "display_data"
    }
   ],
   "source": [
    "dfNewRegister = dfClientJoin.where(fn.col('CustomerId_TAG').isNull())\n",
    "dfNewRegister = dfNewRegister.select(dfClientSRC.columns)\n",
    "dfNewRegister.display()"
   ]
  },
  {
   "cell_type": "markdown",
   "metadata": {
    "application/vnd.databricks.v1+cell": {
     "cellMetadata": {
      "byteLimit": 2048000,
      "rowLimit": 10000
     },
     "inputWidgets": {},
     "nuid": "16653800-fbd6-4b38-8ee9-89e18976eb6b",
     "showTitle": false,
     "title": ""
    }
   },
   "source": [
    "### Update"
   ]
  },
  {
   "cell_type": "code",
   "execution_count": 0,
   "metadata": {
    "application/vnd.databricks.v1+cell": {
     "cellMetadata": {
      "byteLimit": 2048000,
      "rowLimit": 10000
     },
     "inputWidgets": {},
     "nuid": "95b666fb-088d-429e-9070-6c4efe6cfdc1",
     "showTitle": true,
     "title": "Update"
    }
   },
   "outputs": [
    {
     "output_type": "display_data",
     "data": {
      "text/html": [
       "<style scoped>\n",
       "  .table-result-container {\n",
       "    max-height: 300px;\n",
       "    overflow: auto;\n",
       "  }\n",
       "  table, th, td {\n",
       "    border: 1px solid black;\n",
       "    border-collapse: collapse;\n",
       "  }\n",
       "  th, td {\n",
       "    padding: 5px;\n",
       "  }\n",
       "  th {\n",
       "    text-align: left;\n",
       "  }\n",
       "</style><div class='table-result-container'><table class='table-result'><thead style='background-color: white'><tr><th>RowNumber_SRC</th><th>CustomerId_SRC</th><th>Surname_SRC</th><th>CreditScore_SRC</th><th>Geography_SRC</th><th>Gender_SRC</th><th>Age_SRC</th><th>Tenure_SRC</th><th>Balance_SRC</th><th>NumOfProducts_SRC</th><th>HasCrCard_SRC</th><th>IsActiveMember_SRC</th><th>EstimatedSalary_SRC</th><th>Exited_SRC</th></tr></thead><tbody><tr><td>10001</td><td>15628319</td><td>Jack da Silva - MAJ</td><td>792</td><td>Canada</td><td>Male</td><td>28</td><td>4</td><td>86555.79</td><td>1</td><td>1</td><td>1</td><td>45000.78</td><td>0</td></tr></tbody></table></div>"
      ]
     },
     "metadata": {
      "application/vnd.databricks.v1+output": {
       "addedWidgets": {},
       "aggData": [],
       "aggError": "",
       "aggOverflow": false,
       "aggSchema": [],
       "aggSeriesLimitReached": false,
       "aggType": "",
       "arguments": {},
       "columnCustomDisplayInfos": {},
       "data": [
        [
         10001,
         15628319,
         "Jack da Silva - MAJ",
         792,
         "Canada",
         "Male",
         28,
         4,
         86555.79,
         1,
         1,
         1,
         45000.78,
         0
        ]
       ],
       "datasetInfos": [],
       "dbfsResultPath": null,
       "isJsonSchema": true,
       "metadata": {},
       "overflow": false,
       "plotOptions": {
        "customPlotOptions": {},
        "displayType": "table",
        "pivotAggregation": null,
        "pivotColumns": null,
        "xColumns": null,
        "yColumns": null
       },
       "removedWidgets": [],
       "schema": [
        {
         "metadata": "{}",
         "name": "RowNumber_SRC",
         "type": "\"integer\""
        },
        {
         "metadata": "{}",
         "name": "CustomerId_SRC",
         "type": "\"integer\""
        },
        {
         "metadata": "{}",
         "name": "Surname_SRC",
         "type": "\"string\""
        },
        {
         "metadata": "{}",
         "name": "CreditScore_SRC",
         "type": "\"integer\""
        },
        {
         "metadata": "{}",
         "name": "Geography_SRC",
         "type": "\"string\""
        },
        {
         "metadata": "{}",
         "name": "Gender_SRC",
         "type": "\"string\""
        },
        {
         "metadata": "{}",
         "name": "Age_SRC",
         "type": "\"integer\""
        },
        {
         "metadata": "{}",
         "name": "Tenure_SRC",
         "type": "\"integer\""
        },
        {
         "metadata": "{}",
         "name": "Balance_SRC",
         "type": "\"double\""
        },
        {
         "metadata": "{}",
         "name": "NumOfProducts_SRC",
         "type": "\"integer\""
        },
        {
         "metadata": "{}",
         "name": "HasCrCard_SRC",
         "type": "\"integer\""
        },
        {
         "metadata": "{}",
         "name": "IsActiveMember_SRC",
         "type": "\"integer\""
        },
        {
         "metadata": "{}",
         "name": "EstimatedSalary_SRC",
         "type": "\"double\""
        },
        {
         "metadata": "{}",
         "name": "Exited_SRC",
         "type": "\"integer\""
        }
       ],
       "type": "table"
      }
     },
     "output_type": "display_data"
    },
    {
     "output_type": "display_data",
     "data": {
      "text/html": [
       "<style scoped>\n",
       "  .table-result-container {\n",
       "    max-height: 300px;\n",
       "    overflow: auto;\n",
       "  }\n",
       "  table, th, td {\n",
       "    border: 1px solid black;\n",
       "    border-collapse: collapse;\n",
       "  }\n",
       "  th, td {\n",
       "    padding: 5px;\n",
       "  }\n",
       "  th {\n",
       "    text-align: left;\n",
       "  }\n",
       "</style><div class='table-result-container'><table class='table-result'><thead style='background-color: white'><tr><th>RowNumber_TAG</th><th>CustomerId_TAG</th><th>Surname_TAG</th><th>CreditScore_TAG</th><th>Geography_TAG</th><th>Gender_TAG</th><th>Age_TAG</th><th>Tenure_TAG</th><th>Balance_TAG</th><th>NumOfProducts_TAG</th><th>HasCrCard_TAG</th><th>IsActiveMember_TAG</th><th>EstimatedSalary_TAG</th><th>Exited_TAG</th></tr></thead><tbody><tr><td>10000</td><td>15628319</td><td>Walker</td><td>792</td><td>France</td><td>Female</td><td>28</td><td>4</td><td>130142.79</td><td>1</td><td>1</td><td>1</td><td>38190.78</td><td>0</td></tr></tbody></table></div>"
      ]
     },
     "metadata": {
      "application/vnd.databricks.v1+output": {
       "addedWidgets": {},
       "aggData": [],
       "aggError": "",
       "aggOverflow": false,
       "aggSchema": [],
       "aggSeriesLimitReached": false,
       "aggType": "",
       "arguments": {},
       "columnCustomDisplayInfos": {},
       "data": [
        [
         10000,
         15628319,
         "Walker",
         792,
         "France",
         "Female",
         28,
         4,
         130142.79,
         1,
         1,
         1,
         38190.78,
         0
        ]
       ],
       "datasetInfos": [],
       "dbfsResultPath": null,
       "isJsonSchema": true,
       "metadata": {},
       "overflow": false,
       "plotOptions": {
        "customPlotOptions": {},
        "displayType": "table",
        "pivotAggregation": null,
        "pivotColumns": null,
        "xColumns": null,
        "yColumns": null
       },
       "removedWidgets": [],
       "schema": [
        {
         "metadata": "{}",
         "name": "RowNumber_TAG",
         "type": "\"integer\""
        },
        {
         "metadata": "{}",
         "name": "CustomerId_TAG",
         "type": "\"integer\""
        },
        {
         "metadata": "{}",
         "name": "Surname_TAG",
         "type": "\"string\""
        },
        {
         "metadata": "{}",
         "name": "CreditScore_TAG",
         "type": "\"integer\""
        },
        {
         "metadata": "{}",
         "name": "Geography_TAG",
         "type": "\"string\""
        },
        {
         "metadata": "{}",
         "name": "Gender_TAG",
         "type": "\"string\""
        },
        {
         "metadata": "{}",
         "name": "Age_TAG",
         "type": "\"integer\""
        },
        {
         "metadata": "{}",
         "name": "Tenure_TAG",
         "type": "\"integer\""
        },
        {
         "metadata": "{}",
         "name": "Balance_TAG",
         "type": "\"double\""
        },
        {
         "metadata": "{}",
         "name": "NumOfProducts_TAG",
         "type": "\"integer\""
        },
        {
         "metadata": "{}",
         "name": "HasCrCard_TAG",
         "type": "\"integer\""
        },
        {
         "metadata": "{}",
         "name": "IsActiveMember_TAG",
         "type": "\"integer\""
        },
        {
         "metadata": "{}",
         "name": "EstimatedSalary_TAG",
         "type": "\"double\""
        },
        {
         "metadata": "{}",
         "name": "Exited_TAG",
         "type": "\"integer\""
        }
       ],
       "type": "table"
      }
     },
     "output_type": "display_data"
    }
   ],
   "source": [
    "dfUpdate = dfClientJoin.where(\"\"\"(CustomerId_SRC == CustomerId_TAG) or \n",
    "                              (Surname_SRC != Surname_TAG) or \n",
    "                              (CreditScore_SRC != CreditScore_TAG) or \n",
    "                              (Geography_SRC != Geography_TAG) or \n",
    "                              (Gender_SRC != Gender_TAG) or \n",
    "                              (Age_SRC != Age_TAG) or \n",
    "                              (Tenure_SRC != Tenure_TAG) or \n",
    "                              (Balance_SRC != Balance_TAG) or\n",
    "                              (NumOfProducts_SRC != NumOfProducts_TAG) or \n",
    "                              (HasCrCard_SRC != HasCrCard_TAG) or \n",
    "                              (IsActiveMember_SRC != IsActiveMember_TAG) or \n",
    "                              (EstimatedSalary_SRC != EstimatedSalary_TAG) or \n",
    "                              (Exited_SRC != Exited_TAG)\"\"\")\n",
    "\n",
    "# Selecionar DF de Updates Ativos\n",
    "dfUpdateAtivos = dfUpdate.select(dfClientSRC.columns)\n",
    "\n",
    "# Selecionar DF de Updates Inativos\n",
    "dfUpdateInativos = dfUpdate.select(dfClientTAG.columns)\n",
    "\n",
    "dfUpdateAtivos.display()\n",
    "dfUpdateInativos.display()"
   ]
  },
  {
   "cell_type": "markdown",
   "metadata": {
    "application/vnd.databricks.v1+cell": {
     "cellMetadata": {
      "byteLimit": 2048000,
      "rowLimit": 10000
     },
     "inputWidgets": {},
     "nuid": "f80f2cb3-ed68-4d35-8c18-5d3890bc8bad",
     "showTitle": false,
     "title": ""
    }
   },
   "source": [
    "### Inativar Update"
   ]
  },
  {
   "cell_type": "code",
   "execution_count": 0,
   "metadata": {
    "application/vnd.databricks.v1+cell": {
     "cellMetadata": {
      "byteLimit": 2048000,
      "rowLimit": 10000
     },
     "inputWidgets": {},
     "nuid": "e8c01b6f-bf66-41c5-8d32-e742e323e878",
     "showTitle": true,
     "title": "Inativar Update"
    }
   },
   "outputs": [
    {
     "output_type": "display_data",
     "data": {
      "text/html": [
       "<style scoped>\n",
       "  .ansiout {\n",
       "    display: block;\n",
       "    unicode-bidi: embed;\n",
       "    white-space: pre-wrap;\n",
       "    word-wrap: break-word;\n",
       "    word-break: break-all;\n",
       "    font-family: \"Source Code Pro\", \"Menlo\", monospace;;\n",
       "    font-size: 13px;\n",
       "    color: #555;\n",
       "    margin-left: 4px;\n",
       "    line-height: 19px;\n",
       "  }\n",
       "</style>\n",
       "<div class=\"ansiout\">+-------------+--------------+-----------+---------------+-------------+----------+-------+----------+-----------+-----------------+-------------+------------------+-------------------+----------+\n",
       "RowNumber_TAG|CustomerId_TAG|Surname_TAG|CreditScore_TAG|Geography_TAG|Gender_TAG|Age_TAG|Tenure_TAG|Balance_TAG|NumOfProducts_TAG|HasCrCard_TAG|IsActiveMember_TAG|EstimatedSalary_TAG|Exited_TAG|\n",
       "+-------------+--------------+-----------+---------------+-------------+----------+-------+----------+-----------+-----------------+-------------+------------------+-------------------+----------+\n",
       "        10000|      15628319|     Walker|            792|       France|    Female|     28|         4|  130142.79|                1|            1|                 0|           38190.78|         0|\n",
       "+-------------+--------------+-----------+---------------+-------------+----------+-------+----------+-----------+-----------------+-------------+------------------+-------------------+----------+\n",
       "\n",
       "</div>"
      ]
     },
     "metadata": {
      "application/vnd.databricks.v1+output": {
       "addedWidgets": {},
       "arguments": {},
       "data": "<div class=\"ansiout\">+-------------+--------------+-----------+---------------+-------------+----------+-------+----------+-----------+-----------------+-------------+------------------+-------------------+----------+\n|RowNumber_TAG|CustomerId_TAG|Surname_TAG|CreditScore_TAG|Geography_TAG|Gender_TAG|Age_TAG|Tenure_TAG|Balance_TAG|NumOfProducts_TAG|HasCrCard_TAG|IsActiveMember_TAG|EstimatedSalary_TAG|Exited_TAG|\n+-------------+--------------+-----------+---------------+-------------+----------+-------+----------+-----------+-----------------+-------------+------------------+-------------------+----------+\n|        10000|      15628319|     Walker|            792|       France|    Female|     28|         4|  130142.79|                1|            1|                 0|           38190.78|         0|\n+-------------+--------------+-----------+---------------+-------------+----------+-------+----------+-----------+-----------------+-------------+------------------+-------------------+----------+\n\n</div>",
       "datasetInfos": [],
       "metadata": {},
       "removedWidgets": [],
       "type": "html"
      }
     },
     "output_type": "display_data"
    }
   ],
   "source": [
    "dfUpdateInativos = (dfUpdateInativos\n",
    "                    .select('*')\n",
    "                    .withColumn('IsActiveMember_TAG', when(dfUpdateInativos.IsActiveMember_TAG == 1, 0)\n",
    "                                                      .otherwise(dfUpdateInativos.IsActiveMember_TAG)\n",
    "                                )\n",
    "                    )\n",
    "\n",
    "dfUpdateInativos.show()"
   ]
  },
  {
   "cell_type": "markdown",
   "metadata": {
    "application/vnd.databricks.v1+cell": {
     "cellMetadata": {
      "byteLimit": 2048000,
      "rowLimit": 10000
     },
     "inputWidgets": {},
     "nuid": "926109d8-c426-474b-aae8-dd2500d4876a",
     "showTitle": false,
     "title": ""
    }
   },
   "source": [
    "### Dataframes: dfNewRegister, dfUpdate, dfUpdateInativos"
   ]
  },
  {
   "cell_type": "code",
   "execution_count": 0,
   "metadata": {
    "application/vnd.databricks.v1+cell": {
     "cellMetadata": {
      "byteLimit": 2048000,
      "rowLimit": 10000
     },
     "inputWidgets": {},
     "nuid": "ae401a7a-7d75-4a6c-a858-3941ec393039",
     "showTitle": true,
     "title": "Dataframes: dfNewRegister, dfUpdate, dfUpdateInativos"
    }
   },
   "outputs": [
    {
     "output_type": "display_data",
     "data": {
      "text/html": [
       "<style scoped>\n",
       "  .table-result-container {\n",
       "    max-height: 300px;\n",
       "    overflow: auto;\n",
       "  }\n",
       "  table, th, td {\n",
       "    border: 1px solid black;\n",
       "    border-collapse: collapse;\n",
       "  }\n",
       "  th, td {\n",
       "    padding: 5px;\n",
       "  }\n",
       "  th {\n",
       "    text-align: left;\n",
       "  }\n",
       "</style><div class='table-result-container'><table class='table-result'><thead style='background-color: white'><tr><th>RowNumber_SRC</th><th>CustomerId_SRC</th><th>Surname_SRC</th><th>CreditScore_SRC</th><th>Geography_SRC</th><th>Gender_SRC</th><th>Age_SRC</th><th>Tenure_SRC</th><th>Balance_SRC</th><th>NumOfProducts_SRC</th><th>HasCrCard_SRC</th><th>IsActiveMember_SRC</th><th>EstimatedSalary_SRC</th><th>Exited_SRC</th></tr></thead><tbody><tr><td>10001</td><td>215628319</td><td>New Cliente</td><td>500</td><td>Canada</td><td>Male</td><td>28</td><td>4</td><td>86555.79</td><td>1</td><td>1</td><td>1</td><td>45000.78</td><td>0</td></tr></tbody></table></div>"
      ]
     },
     "metadata": {
      "application/vnd.databricks.v1+output": {
       "addedWidgets": {},
       "aggData": [],
       "aggError": "",
       "aggOverflow": false,
       "aggSchema": [],
       "aggSeriesLimitReached": false,
       "aggType": "",
       "arguments": {},
       "columnCustomDisplayInfos": {},
       "data": [
        [
         10001,
         215628319,
         "New Cliente",
         500,
         "Canada",
         "Male",
         28,
         4,
         86555.79,
         1,
         1,
         1,
         45000.78,
         0
        ]
       ],
       "datasetInfos": [],
       "dbfsResultPath": null,
       "isJsonSchema": true,
       "metadata": {},
       "overflow": false,
       "plotOptions": {
        "customPlotOptions": {},
        "displayType": "table",
        "pivotAggregation": null,
        "pivotColumns": null,
        "xColumns": null,
        "yColumns": null
       },
       "removedWidgets": [],
       "schema": [
        {
         "metadata": "{}",
         "name": "RowNumber_SRC",
         "type": "\"integer\""
        },
        {
         "metadata": "{}",
         "name": "CustomerId_SRC",
         "type": "\"integer\""
        },
        {
         "metadata": "{}",
         "name": "Surname_SRC",
         "type": "\"string\""
        },
        {
         "metadata": "{}",
         "name": "CreditScore_SRC",
         "type": "\"integer\""
        },
        {
         "metadata": "{}",
         "name": "Geography_SRC",
         "type": "\"string\""
        },
        {
         "metadata": "{}",
         "name": "Gender_SRC",
         "type": "\"string\""
        },
        {
         "metadata": "{}",
         "name": "Age_SRC",
         "type": "\"integer\""
        },
        {
         "metadata": "{}",
         "name": "Tenure_SRC",
         "type": "\"integer\""
        },
        {
         "metadata": "{}",
         "name": "Balance_SRC",
         "type": "\"double\""
        },
        {
         "metadata": "{}",
         "name": "NumOfProducts_SRC",
         "type": "\"integer\""
        },
        {
         "metadata": "{}",
         "name": "HasCrCard_SRC",
         "type": "\"integer\""
        },
        {
         "metadata": "{}",
         "name": "IsActiveMember_SRC",
         "type": "\"integer\""
        },
        {
         "metadata": "{}",
         "name": "EstimatedSalary_SRC",
         "type": "\"double\""
        },
        {
         "metadata": "{}",
         "name": "Exited_SRC",
         "type": "\"integer\""
        }
       ],
       "type": "table"
      }
     },
     "output_type": "display_data"
    },
    {
     "output_type": "display_data",
     "data": {
      "text/html": [
       "<style scoped>\n",
       "  .table-result-container {\n",
       "    max-height: 300px;\n",
       "    overflow: auto;\n",
       "  }\n",
       "  table, th, td {\n",
       "    border: 1px solid black;\n",
       "    border-collapse: collapse;\n",
       "  }\n",
       "  th, td {\n",
       "    padding: 5px;\n",
       "  }\n",
       "  th {\n",
       "    text-align: left;\n",
       "  }\n",
       "</style><div class='table-result-container'><table class='table-result'><thead style='background-color: white'><tr><th>RowNumber_SRC</th><th>CustomerId_SRC</th><th>Surname_SRC</th><th>CreditScore_SRC</th><th>Geography_SRC</th><th>Gender_SRC</th><th>Age_SRC</th><th>Tenure_SRC</th><th>Balance_SRC</th><th>NumOfProducts_SRC</th><th>HasCrCard_SRC</th><th>IsActiveMember_SRC</th><th>EstimatedSalary_SRC</th><th>Exited_SRC</th></tr></thead><tbody><tr><td>10001</td><td>15628319</td><td>Jack da Silva - MAJ</td><td>792</td><td>Canada</td><td>Male</td><td>28</td><td>4</td><td>86555.79</td><td>1</td><td>1</td><td>1</td><td>45000.78</td><td>0</td></tr></tbody></table></div>"
      ]
     },
     "metadata": {
      "application/vnd.databricks.v1+output": {
       "addedWidgets": {},
       "aggData": [],
       "aggError": "",
       "aggOverflow": false,
       "aggSchema": [],
       "aggSeriesLimitReached": false,
       "aggType": "",
       "arguments": {},
       "columnCustomDisplayInfos": {},
       "data": [
        [
         10001,
         15628319,
         "Jack da Silva - MAJ",
         792,
         "Canada",
         "Male",
         28,
         4,
         86555.79,
         1,
         1,
         1,
         45000.78,
         0
        ]
       ],
       "datasetInfos": [],
       "dbfsResultPath": null,
       "isJsonSchema": true,
       "metadata": {},
       "overflow": false,
       "plotOptions": {
        "customPlotOptions": {},
        "displayType": "table",
        "pivotAggregation": null,
        "pivotColumns": null,
        "xColumns": null,
        "yColumns": null
       },
       "removedWidgets": [],
       "schema": [
        {
         "metadata": "{}",
         "name": "RowNumber_SRC",
         "type": "\"integer\""
        },
        {
         "metadata": "{}",
         "name": "CustomerId_SRC",
         "type": "\"integer\""
        },
        {
         "metadata": "{}",
         "name": "Surname_SRC",
         "type": "\"string\""
        },
        {
         "metadata": "{}",
         "name": "CreditScore_SRC",
         "type": "\"integer\""
        },
        {
         "metadata": "{}",
         "name": "Geography_SRC",
         "type": "\"string\""
        },
        {
         "metadata": "{}",
         "name": "Gender_SRC",
         "type": "\"string\""
        },
        {
         "metadata": "{}",
         "name": "Age_SRC",
         "type": "\"integer\""
        },
        {
         "metadata": "{}",
         "name": "Tenure_SRC",
         "type": "\"integer\""
        },
        {
         "metadata": "{}",
         "name": "Balance_SRC",
         "type": "\"double\""
        },
        {
         "metadata": "{}",
         "name": "NumOfProducts_SRC",
         "type": "\"integer\""
        },
        {
         "metadata": "{}",
         "name": "HasCrCard_SRC",
         "type": "\"integer\""
        },
        {
         "metadata": "{}",
         "name": "IsActiveMember_SRC",
         "type": "\"integer\""
        },
        {
         "metadata": "{}",
         "name": "EstimatedSalary_SRC",
         "type": "\"double\""
        },
        {
         "metadata": "{}",
         "name": "Exited_SRC",
         "type": "\"integer\""
        }
       ],
       "type": "table"
      }
     },
     "output_type": "display_data"
    },
    {
     "output_type": "display_data",
     "data": {
      "text/html": [
       "<style scoped>\n",
       "  .table-result-container {\n",
       "    max-height: 300px;\n",
       "    overflow: auto;\n",
       "  }\n",
       "  table, th, td {\n",
       "    border: 1px solid black;\n",
       "    border-collapse: collapse;\n",
       "  }\n",
       "  th, td {\n",
       "    padding: 5px;\n",
       "  }\n",
       "  th {\n",
       "    text-align: left;\n",
       "  }\n",
       "</style><div class='table-result-container'><table class='table-result'><thead style='background-color: white'><tr><th>RowNumber_TAG</th><th>CustomerId_TAG</th><th>Surname_TAG</th><th>CreditScore_TAG</th><th>Geography_TAG</th><th>Gender_TAG</th><th>Age_TAG</th><th>Tenure_TAG</th><th>Balance_TAG</th><th>NumOfProducts_TAG</th><th>HasCrCard_TAG</th><th>IsActiveMember_TAG</th><th>EstimatedSalary_TAG</th><th>Exited_TAG</th></tr></thead><tbody><tr><td>10000</td><td>15628319</td><td>Walker</td><td>792</td><td>France</td><td>Female</td><td>28</td><td>4</td><td>130142.79</td><td>1</td><td>1</td><td>0</td><td>38190.78</td><td>0</td></tr></tbody></table></div>"
      ]
     },
     "metadata": {
      "application/vnd.databricks.v1+output": {
       "addedWidgets": {},
       "aggData": [],
       "aggError": "",
       "aggOverflow": false,
       "aggSchema": [],
       "aggSeriesLimitReached": false,
       "aggType": "",
       "arguments": {},
       "columnCustomDisplayInfos": {},
       "data": [
        [
         10000,
         15628319,
         "Walker",
         792,
         "France",
         "Female",
         28,
         4,
         130142.79,
         1,
         1,
         0,
         38190.78,
         0
        ]
       ],
       "datasetInfos": [],
       "dbfsResultPath": null,
       "isJsonSchema": true,
       "metadata": {},
       "overflow": false,
       "plotOptions": {
        "customPlotOptions": {},
        "displayType": "table",
        "pivotAggregation": null,
        "pivotColumns": null,
        "xColumns": null,
        "yColumns": null
       },
       "removedWidgets": [],
       "schema": [
        {
         "metadata": "{}",
         "name": "RowNumber_TAG",
         "type": "\"integer\""
        },
        {
         "metadata": "{}",
         "name": "CustomerId_TAG",
         "type": "\"integer\""
        },
        {
         "metadata": "{}",
         "name": "Surname_TAG",
         "type": "\"string\""
        },
        {
         "metadata": "{}",
         "name": "CreditScore_TAG",
         "type": "\"integer\""
        },
        {
         "metadata": "{}",
         "name": "Geography_TAG",
         "type": "\"string\""
        },
        {
         "metadata": "{}",
         "name": "Gender_TAG",
         "type": "\"string\""
        },
        {
         "metadata": "{}",
         "name": "Age_TAG",
         "type": "\"integer\""
        },
        {
         "metadata": "{}",
         "name": "Tenure_TAG",
         "type": "\"integer\""
        },
        {
         "metadata": "{}",
         "name": "Balance_TAG",
         "type": "\"double\""
        },
        {
         "metadata": "{}",
         "name": "NumOfProducts_TAG",
         "type": "\"integer\""
        },
        {
         "metadata": "{}",
         "name": "HasCrCard_TAG",
         "type": "\"integer\""
        },
        {
         "metadata": "{}",
         "name": "IsActiveMember_TAG",
         "type": "\"integer\""
        },
        {
         "metadata": "{}",
         "name": "EstimatedSalary_TAG",
         "type": "\"double\""
        },
        {
         "metadata": "{}",
         "name": "Exited_TAG",
         "type": "\"integer\""
        }
       ],
       "type": "table"
      }
     },
     "output_type": "display_data"
    }
   ],
   "source": [
    "dfNewRegister.display()\n",
    "dfUpdateAtivos.display()\n",
    "dfUpdateInativos.display()"
   ]
  },
  {
   "cell_type": "markdown",
   "metadata": {
    "application/vnd.databricks.v1+cell": {
     "cellMetadata": {
      "byteLimit": 2048000,
      "rowLimit": 10000
     },
     "inputWidgets": {},
     "nuid": "387a8d9a-74d4-4b51-971e-580760a8d921",
     "showTitle": false,
     "title": ""
    }
   },
   "source": [
    "## Load"
   ]
  },
  {
   "cell_type": "markdown",
   "metadata": {
    "application/vnd.databricks.v1+cell": {
     "cellMetadata": {
      "byteLimit": 2048000,
      "rowLimit": 10000
     },
     "inputWidgets": {},
     "nuid": "4c077ce5-b39e-46bf-9eb3-e31d604aa8e0",
     "showTitle": false,
     "title": ""
    }
   },
   "source": [
    "### Inativar o registro"
   ]
  },
  {
   "cell_type": "code",
   "execution_count": 0,
   "metadata": {
    "application/vnd.databricks.v1+cell": {
     "cellMetadata": {
      "byteLimit": 2048000,
      "rowLimit": 10000
     },
     "inputWidgets": {},
     "nuid": "b4672853-b176-4f4f-adc5-daf4fc671adc",
     "showTitle": true,
     "title": "Inativar o registro"
    }
   },
   "outputs": [
    {
     "output_type": "display_data",
     "data": {
      "text/html": [
       "<style scoped>\n",
       "  .ansiout {\n",
       "    display: block;\n",
       "    unicode-bidi: embed;\n",
       "    white-space: pre-wrap;\n",
       "    word-wrap: break-word;\n",
       "    word-break: break-all;\n",
       "    font-family: \"Source Code Pro\", \"Menlo\", monospace;;\n",
       "    font-size: 13px;\n",
       "    color: #555;\n",
       "    margin-left: 4px;\n",
       "    line-height: 19px;\n",
       "  }\n",
       "</style>\n",
       "<div class=\"ansiout\">+-------------+--------------+-----------+---------------+-------------+----------+-------+----------+-----------+-----------------+-------------+------------------+-------------------+----------+\n",
       "RowNumber_TAG|CustomerId_TAG|Surname_TAG|CreditScore_TAG|Geography_TAG|Gender_TAG|Age_TAG|Tenure_TAG|Balance_TAG|NumOfProducts_TAG|HasCrCard_TAG|IsActiveMember_TAG|EstimatedSalary_TAG|Exited_TAG|\n",
       "+-------------+--------------+-----------+---------------+-------------+----------+-------+----------+-----------+-----------------+-------------+------------------+-------------------+----------+\n",
       "        10000|      15628319|     Walker|            792|       France|    Female|     28|         4|  130142.79|                1|            1|                 1|           38190.78|         0|\n",
       "        10000|      15628319|     Walker|            792|       France|    Female|     28|         4|  130142.79|                1|            1|                 0|           38190.78|         0|\n",
       "+-------------+--------------+-----------+---------------+-------------+----------+-------+----------+-----------+-----------------+-------------+------------------+-------------------+----------+\n",
       "\n",
       "+-------------+--------------+-----------+---------------+-------------+----------+-------+----------+-----------+-----------------+-------------+------------------+-------------------+----------+-----------+\n",
       "RowNumber_TAG|CustomerId_TAG|Surname_TAG|CreditScore_TAG|Geography_TAG|Gender_TAG|Age_TAG|Tenure_TAG|Balance_TAG|NumOfProducts_TAG|HasCrCard_TAG|IsActiveMember_TAG|EstimatedSalary_TAG|Exited_TAG|_row_number|\n",
       "+-------------+--------------+-----------+---------------+-------------+----------+-------+----------+-----------+-----------------+-------------+------------------+-------------------+----------+-----------+\n",
       "        10000|      15628319|     Walker|            792|       France|    Female|     28|         4|  130142.79|                1|            1|                 0|           38190.78|         0|          1|\n",
       "        10000|      15628319|     Walker|            792|       France|    Female|     28|         4|  130142.79|                1|            1|                 1|           38190.78|         0|          2|\n",
       "+-------------+--------------+-----------+---------------+-------------+----------+-------+----------+-----------+-----------------+-------------+------------------+-------------------+----------+-----------+\n",
       "\n",
       "Out[12]: 10001</div>"
      ]
     },
     "metadata": {
      "application/vnd.databricks.v1+output": {
       "addedWidgets": {},
       "arguments": {},
       "data": "<div class=\"ansiout\">+-------------+--------------+-----------+---------------+-------------+----------+-------+----------+-----------+-----------------+-------------+------------------+-------------------+----------+\n|RowNumber_TAG|CustomerId_TAG|Surname_TAG|CreditScore_TAG|Geography_TAG|Gender_TAG|Age_TAG|Tenure_TAG|Balance_TAG|NumOfProducts_TAG|HasCrCard_TAG|IsActiveMember_TAG|EstimatedSalary_TAG|Exited_TAG|\n+-------------+--------------+-----------+---------------+-------------+----------+-------+----------+-----------+-----------------+-------------+------------------+-------------------+----------+\n|        10000|      15628319|     Walker|            792|       France|    Female|     28|         4|  130142.79|                1|            1|                 1|           38190.78|         0|\n|        10000|      15628319|     Walker|            792|       France|    Female|     28|         4|  130142.79|                1|            1|                 0|           38190.78|         0|\n+-------------+--------------+-----------+---------------+-------------+----------+-------+----------+-----------+-----------------+-------------+------------------+-------------------+----------+\n\n+-------------+--------------+-----------+---------------+-------------+----------+-------+----------+-----------+-----------------+-------------+------------------+-------------------+----------+-----------+\n|RowNumber_TAG|CustomerId_TAG|Surname_TAG|CreditScore_TAG|Geography_TAG|Gender_TAG|Age_TAG|Tenure_TAG|Balance_TAG|NumOfProducts_TAG|HasCrCard_TAG|IsActiveMember_TAG|EstimatedSalary_TAG|Exited_TAG|_row_number|\n+-------------+--------------+-----------+---------------+-------------+----------+-------+----------+-----------+-----------------+-------------+------------------+-------------------+----------+-----------+\n|        10000|      15628319|     Walker|            792|       France|    Female|     28|         4|  130142.79|                1|            1|                 0|           38190.78|         0|          1|\n|        10000|      15628319|     Walker|            792|       France|    Female|     28|         4|  130142.79|                1|            1|                 1|           38190.78|         0|          2|\n+-------------+--------------+-----------+---------------+-------------+----------+-------+----------+-----------+-----------------+-------------+------------------+-------------------+----------+-----------+\n\nOut[12]: 10001</div>",
       "datasetInfos": [],
       "metadata": {},
       "removedWidgets": [],
       "type": "html"
      }
     },
     "output_type": "display_data"
    }
   ],
   "source": [
    "dfmerge = dfClientTAG.union(dfUpdateInativos)\n",
    "\n",
    "dfmerge.where(fn.col('CustomerId_TAG') == 15628319).show()\n",
    "dfmerge.withColumn('_row_number', row_number().over(Window.partitionBy(fn.col('CustomerId_TAG')).orderBy(fn.col('IsActiveMember_TAG')))).where(fn.col('CustomerId_TAG') == 15628319).show()\n",
    "dfmerge.count()"
   ]
  },
  {
   "cell_type": "code",
   "execution_count": 0,
   "metadata": {
    "application/vnd.databricks.v1+cell": {
     "cellMetadata": {
      "byteLimit": 2048000,
      "rowLimit": 10000
     },
     "inputWidgets": {},
     "nuid": "b8ce51a9-50b1-44c5-8ea6-69af43946844",
     "showTitle": false,
     "title": ""
    }
   },
   "outputs": [
    {
     "output_type": "display_data",
     "data": {
      "text/html": [
       "<style scoped>\n",
       "  .ansiout {\n",
       "    display: block;\n",
       "    unicode-bidi: embed;\n",
       "    white-space: pre-wrap;\n",
       "    word-wrap: break-word;\n",
       "    word-break: break-all;\n",
       "    font-family: \"Source Code Pro\", \"Menlo\", monospace;;\n",
       "    font-size: 13px;\n",
       "    color: #555;\n",
       "    margin-left: 4px;\n",
       "    line-height: 19px;\n",
       "  }\n",
       "</style>\n",
       "<div class=\"ansiout\">+-------------+--------------+-----------+---------------+-------------+----------+-------+----------+-----------+-----------------+-------------+------------------+-------------------+----------+\n",
       "RowNumber_TAG|CustomerId_TAG|Surname_TAG|CreditScore_TAG|Geography_TAG|Gender_TAG|Age_TAG|Tenure_TAG|Balance_TAG|NumOfProducts_TAG|HasCrCard_TAG|IsActiveMember_TAG|EstimatedSalary_TAG|Exited_TAG|\n",
       "+-------------+--------------+-----------+---------------+-------------+----------+-------+----------+-----------+-----------------+-------------+------------------+-------------------+----------+\n",
       "1288         |15565701      |Ferri      |698            |Spain        |Female    |39     |9         |161993.89  |1                |0            |0                 |90212.38           |0         |\n",
       "4199         |15565706      |Akobundu   |612            |Spain        |Male      |35     |1         |0.0        |1                |1            |1                 |83256.26           |1         |\n",
       "7091         |15565714      |Cattaneo   |601            |France       |Male      |47     |1         |64430.06   |2                |0            |1                 |96517.97           |0         |\n",
       "2021         |15565779      |Kent       |627            |Germany      |Female    |30     |6         |57809.32   |1                |1            |0                 |188258.49          |0         |\n",
       "3698         |15565796      |Docherty   |745            |Germany      |Male      |48     |10        |96048.55   |1                |1            |0                 |74510.65           |0         |\n",
       "3417         |15565806      |Toosey     |532            |France       |Male      |38     |9         |0.0        |2                |0            |0                 |30583.95           |0         |\n",
       "6882         |15565878      |Bates      |631            |Spain        |Male      |29     |3         |0.0        |2                |1            |1                 |197963.46          |0         |\n",
       "9515         |15565879      |Riley      |845            |France       |Female    |28     |9         |0.0        |2                |1            |1                 |56185.98           |0         |\n",
       "5796         |15565891      |Dipietro   |709            |France       |Male      |39     |8         |0.0        |2                |1            |0                 |56214.09           |0         |\n",
       "7187         |15565996      |Arnold     |653            |France       |Male      |44     |8         |0.0        |2                |1            |1                 |154639.72          |0         |\n",
       "+-------------+--------------+-----------+---------------+-------------+----------+-------+----------+-----------+-----------------+-------------+------------------+-------------------+----------+\n",
       "only showing top 10 rows\n",
       "\n",
       "</div>"
      ]
     },
     "metadata": {
      "application/vnd.databricks.v1+output": {
       "addedWidgets": {},
       "arguments": {},
       "data": "<div class=\"ansiout\">+-------------+--------------+-----------+---------------+-------------+----------+-------+----------+-----------+-----------------+-------------+------------------+-------------------+----------+\n|RowNumber_TAG|CustomerId_TAG|Surname_TAG|CreditScore_TAG|Geography_TAG|Gender_TAG|Age_TAG|Tenure_TAG|Balance_TAG|NumOfProducts_TAG|HasCrCard_TAG|IsActiveMember_TAG|EstimatedSalary_TAG|Exited_TAG|\n+-------------+--------------+-----------+---------------+-------------+----------+-------+----------+-----------+-----------------+-------------+------------------+-------------------+----------+\n|1288         |15565701      |Ferri      |698            |Spain        |Female    |39     |9         |161993.89  |1                |0            |0                 |90212.38           |0         |\n|4199         |15565706      |Akobundu   |612            |Spain        |Male      |35     |1         |0.0        |1                |1            |1                 |83256.26           |1         |\n|7091         |15565714      |Cattaneo   |601            |France       |Male      |47     |1         |64430.06   |2                |0            |1                 |96517.97           |0         |\n|2021         |15565779      |Kent       |627            |Germany      |Female    |30     |6         |57809.32   |1                |1            |0                 |188258.49          |0         |\n|3698         |15565796      |Docherty   |745            |Germany      |Male      |48     |10        |96048.55   |1                |1            |0                 |74510.65           |0         |\n|3417         |15565806      |Toosey     |532            |France       |Male      |38     |9         |0.0        |2                |0            |0                 |30583.95           |0         |\n|6882         |15565878      |Bates      |631            |Spain        |Male      |29     |3         |0.0        |2                |1            |1                 |197963.46          |0         |\n|9515         |15565879      |Riley      |845            |France       |Female    |28     |9         |0.0        |2                |1            |1                 |56185.98           |0         |\n|5796         |15565891      |Dipietro   |709            |France       |Male      |39     |8         |0.0        |2                |1            |0                 |56214.09           |0         |\n|7187         |15565996      |Arnold     |653            |France       |Male      |44     |8         |0.0        |2                |1            |1                 |154639.72          |0         |\n+-------------+--------------+-----------+---------------+-------------+----------+-------+----------+-----------+-----------------+-------------+------------------+-------------------+----------+\nonly showing top 10 rows\n\n</div>",
       "datasetInfos": [],
       "metadata": {},
       "removedWidgets": [],
       "type": "html"
      }
     },
     "output_type": "display_data"
    }
   ],
   "source": [
    "dfmerge = (dfmerge\n",
    "           .withColumn('_row_number', row_number()\n",
    "                                      .over(Window.partitionBy(fn.col('CustomerId_TAG'))\n",
    "                                            .orderBy(fn.col('IsActiveMember_TAG')))\n",
    "                       ).where(fn.col('_row_number') == 1)\n",
    "           .drop(fn.col('_row_number'))\n",
    "           )\n",
    "\n",
    "dfmerge.show(10, False)"
   ]
  },
  {
   "cell_type": "markdown",
   "metadata": {
    "application/vnd.databricks.v1+cell": {
     "cellMetadata": {
      "byteLimit": 2048000,
      "rowLimit": 10000
     },
     "inputWidgets": {},
     "nuid": "11e3c9d5-4afa-443e-9d83-1560aa018966",
     "showTitle": false,
     "title": ""
    }
   },
   "source": [
    "### Acrescentar novos registros + Updates"
   ]
  },
  {
   "cell_type": "code",
   "execution_count": 0,
   "metadata": {
    "application/vnd.databricks.v1+cell": {
     "cellMetadata": {
      "byteLimit": 2048000,
      "rowLimit": 10000
     },
     "inputWidgets": {},
     "nuid": "acaf7193-85e5-4ff5-9ec6-1af8799b4676",
     "showTitle": false,
     "title": ""
    }
   },
   "outputs": [
    {
     "output_type": "display_data",
     "data": {
      "text/html": [
       "<style scoped>\n",
       "  .table-result-container {\n",
       "    max-height: 300px;\n",
       "    overflow: auto;\n",
       "  }\n",
       "  table, th, td {\n",
       "    border: 1px solid black;\n",
       "    border-collapse: collapse;\n",
       "  }\n",
       "  th, td {\n",
       "    padding: 5px;\n",
       "  }\n",
       "  th {\n",
       "    text-align: left;\n",
       "  }\n",
       "</style><div class='table-result-container'><table class='table-result'><thead style='background-color: white'><tr><th>RowNumber_TAG</th><th>CustomerId_TAG</th><th>Surname_TAG</th><th>CreditScore_TAG</th><th>Geography_TAG</th><th>Gender_TAG</th><th>Age_TAG</th><th>Tenure_TAG</th><th>Balance_TAG</th><th>NumOfProducts_TAG</th><th>HasCrCard_TAG</th><th>IsActiveMember_TAG</th><th>EstimatedSalary_TAG</th><th>Exited_TAG</th></tr></thead><tbody><tr><td>1288</td><td>15565701</td><td>Ferri</td><td>698</td><td>Spain</td><td>Female</td><td>39</td><td>9</td><td>161993.89</td><td>1</td><td>0</td><td>0</td><td>90212.38</td><td>0</td></tr><tr><td>4199</td><td>15565706</td><td>Akobundu</td><td>612</td><td>Spain</td><td>Male</td><td>35</td><td>1</td><td>0.0</td><td>1</td><td>1</td><td>1</td><td>83256.26</td><td>1</td></tr><tr><td>7091</td><td>15565714</td><td>Cattaneo</td><td>601</td><td>France</td><td>Male</td><td>47</td><td>1</td><td>64430.06</td><td>2</td><td>0</td><td>1</td><td>96517.97</td><td>0</td></tr><tr><td>2021</td><td>15565779</td><td>Kent</td><td>627</td><td>Germany</td><td>Female</td><td>30</td><td>6</td><td>57809.32</td><td>1</td><td>1</td><td>0</td><td>188258.49</td><td>0</td></tr><tr><td>3698</td><td>15565796</td><td>Docherty</td><td>745</td><td>Germany</td><td>Male</td><td>48</td><td>10</td><td>96048.55</td><td>1</td><td>1</td><td>0</td><td>74510.65</td><td>0</td></tr><tr><td>3417</td><td>15565806</td><td>Toosey</td><td>532</td><td>France</td><td>Male</td><td>38</td><td>9</td><td>0.0</td><td>2</td><td>0</td><td>0</td><td>30583.95</td><td>0</td></tr><tr><td>6882</td><td>15565878</td><td>Bates</td><td>631</td><td>Spain</td><td>Male</td><td>29</td><td>3</td><td>0.0</td><td>2</td><td>1</td><td>1</td><td>197963.46</td><td>0</td></tr><tr><td>9515</td><td>15565879</td><td>Riley</td><td>845</td><td>France</td><td>Female</td><td>28</td><td>9</td><td>0.0</td><td>2</td><td>1</td><td>1</td><td>56185.98</td><td>0</td></tr><tr><td>5796</td><td>15565891</td><td>Dipietro</td><td>709</td><td>France</td><td>Male</td><td>39</td><td>8</td><td>0.0</td><td>2</td><td>1</td><td>0</td><td>56214.09</td><td>0</td></tr><tr><td>7187</td><td>15565996</td><td>Arnold</td><td>653</td><td>France</td><td>Male</td><td>44</td><td>8</td><td>0.0</td><td>2</td><td>1</td><td>1</td><td>154639.72</td><td>0</td></tr></tbody></table></div>"
      ]
     },
     "metadata": {
      "application/vnd.databricks.v1+output": {
       "addedWidgets": {},
       "aggData": [],
       "aggError": "",
       "aggOverflow": false,
       "aggSchema": [],
       "aggSeriesLimitReached": false,
       "aggType": "",
       "arguments": {},
       "columnCustomDisplayInfos": {},
       "data": [
        [
         1288,
         15565701,
         "Ferri",
         698,
         "Spain",
         "Female",
         39,
         9,
         161993.89,
         1,
         0,
         0,
         90212.38,
         0
        ],
        [
         4199,
         15565706,
         "Akobundu",
         612,
         "Spain",
         "Male",
         35,
         1,
         0.0,
         1,
         1,
         1,
         83256.26,
         1
        ],
        [
         7091,
         15565714,
         "Cattaneo",
         601,
         "France",
         "Male",
         47,
         1,
         64430.06,
         2,
         0,
         1,
         96517.97,
         0
        ],
        [
         2021,
         15565779,
         "Kent",
         627,
         "Germany",
         "Female",
         30,
         6,
         57809.32,
         1,
         1,
         0,
         188258.49,
         0
        ],
        [
         3698,
         15565796,
         "Docherty",
         745,
         "Germany",
         "Male",
         48,
         10,
         96048.55,
         1,
         1,
         0,
         74510.65,
         0
        ],
        [
         3417,
         15565806,
         "Toosey",
         532,
         "France",
         "Male",
         38,
         9,
         0.0,
         2,
         0,
         0,
         30583.95,
         0
        ],
        [
         6882,
         15565878,
         "Bates",
         631,
         "Spain",
         "Male",
         29,
         3,
         0.0,
         2,
         1,
         1,
         197963.46,
         0
        ],
        [
         9515,
         15565879,
         "Riley",
         845,
         "France",
         "Female",
         28,
         9,
         0.0,
         2,
         1,
         1,
         56185.98,
         0
        ],
        [
         5796,
         15565891,
         "Dipietro",
         709,
         "France",
         "Male",
         39,
         8,
         0.0,
         2,
         1,
         0,
         56214.09,
         0
        ],
        [
         7187,
         15565996,
         "Arnold",
         653,
         "France",
         "Male",
         44,
         8,
         0.0,
         2,
         1,
         1,
         154639.72,
         0
        ]
       ],
       "datasetInfos": [],
       "dbfsResultPath": null,
       "isJsonSchema": true,
       "metadata": {},
       "overflow": false,
       "plotOptions": {
        "customPlotOptions": {},
        "displayType": "table",
        "pivotAggregation": null,
        "pivotColumns": null,
        "xColumns": null,
        "yColumns": null
       },
       "removedWidgets": [],
       "schema": [
        {
         "metadata": "{}",
         "name": "RowNumber_TAG",
         "type": "\"integer\""
        },
        {
         "metadata": "{}",
         "name": "CustomerId_TAG",
         "type": "\"integer\""
        },
        {
         "metadata": "{}",
         "name": "Surname_TAG",
         "type": "\"string\""
        },
        {
         "metadata": "{}",
         "name": "CreditScore_TAG",
         "type": "\"integer\""
        },
        {
         "metadata": "{}",
         "name": "Geography_TAG",
         "type": "\"string\""
        },
        {
         "metadata": "{}",
         "name": "Gender_TAG",
         "type": "\"string\""
        },
        {
         "metadata": "{}",
         "name": "Age_TAG",
         "type": "\"integer\""
        },
        {
         "metadata": "{}",
         "name": "Tenure_TAG",
         "type": "\"integer\""
        },
        {
         "metadata": "{}",
         "name": "Balance_TAG",
         "type": "\"double\""
        },
        {
         "metadata": "{}",
         "name": "NumOfProducts_TAG",
         "type": "\"integer\""
        },
        {
         "metadata": "{}",
         "name": "HasCrCard_TAG",
         "type": "\"integer\""
        },
        {
         "metadata": "{}",
         "name": "IsActiveMember_TAG",
         "type": "\"integer\""
        },
        {
         "metadata": "{}",
         "name": "EstimatedSalary_TAG",
         "type": "\"double\""
        },
        {
         "metadata": "{}",
         "name": "Exited_TAG",
         "type": "\"integer\""
        }
       ],
       "type": "table"
      }
     },
     "output_type": "display_data"
    },
    {
     "output_type": "display_data",
     "data": {
      "text/html": [
       "<style scoped>\n",
       "  .ansiout {\n",
       "    display: block;\n",
       "    unicode-bidi: embed;\n",
       "    white-space: pre-wrap;\n",
       "    word-wrap: break-word;\n",
       "    word-break: break-all;\n",
       "    font-family: \"Source Code Pro\", \"Menlo\", monospace;;\n",
       "    font-size: 13px;\n",
       "    color: #555;\n",
       "    margin-left: 4px;\n",
       "    line-height: 19px;\n",
       "  }\n",
       "</style>\n",
       "<div class=\"ansiout\">Out[14]: 10002</div>"
      ]
     },
     "metadata": {
      "application/vnd.databricks.v1+output": {
       "addedWidgets": {},
       "arguments": {},
       "data": "<div class=\"ansiout\">Out[14]: 10002</div>",
       "datasetInfos": [],
       "metadata": {},
       "removedWidgets": [],
       "type": "html"
      }
     },
     "output_type": "display_data"
    }
   ],
   "source": [
    "dfversionfinal = dfmerge.union(dfNewRegister).union(dfUpdateAtivos)\n",
    "dfversionfinal.limit(10).display()\n",
    "dfversionfinal.count()"
   ]
  },
  {
   "cell_type": "code",
   "execution_count": 0,
   "metadata": {
    "application/vnd.databricks.v1+cell": {
     "cellMetadata": {
      "byteLimit": 2048000,
      "rowLimit": 10000
     },
     "inputWidgets": {},
     "nuid": "526ce7dc-69f9-442b-9f59-5497aa3bc863",
     "showTitle": false,
     "title": ""
    }
   },
   "outputs": [
    {
     "output_type": "display_data",
     "data": {
      "text/html": [
       "<style scoped>\n",
       "  .ansiout {\n",
       "    display: block;\n",
       "    unicode-bidi: embed;\n",
       "    white-space: pre-wrap;\n",
       "    word-wrap: break-word;\n",
       "    word-break: break-all;\n",
       "    font-family: \"Source Code Pro\", \"Menlo\", monospace;;\n",
       "    font-size: 13px;\n",
       "    color: #555;\n",
       "    margin-left: 4px;\n",
       "    line-height: 19px;\n",
       "  }\n",
       "</style>\n",
       "<div class=\"ansiout\">+-------------+--------------+-------------------+---------------+-------------+----------+-------+----------+-----------+-----------------+-------------+------------------+-------------------+----------+\n",
       "RowNumber_TAG|CustomerId_TAG|        Surname_TAG|CreditScore_TAG|Geography_TAG|Gender_TAG|Age_TAG|Tenure_TAG|Balance_TAG|NumOfProducts_TAG|HasCrCard_TAG|IsActiveMember_TAG|EstimatedSalary_TAG|Exited_TAG|\n",
       "+-------------+--------------+-------------------+---------------+-------------+----------+-------+----------+-----------+-----------------+-------------+------------------+-------------------+----------+\n",
       "        10000|      15628319|             Walker|            792|       France|    Female|     28|         4|  130142.79|                1|            1|                 0|           38190.78|         0|\n",
       "        10001|     215628319|        New Cliente|            500|       Canada|      Male|     28|         4|   86555.79|                1|            1|                 1|           45000.78|         0|\n",
       "        10001|      15628319|Jack da Silva - MAJ|            792|       Canada|      Male|     28|         4|   86555.79|                1|            1|                 1|           45000.78|         0|\n",
       "+-------------+--------------+-------------------+---------------+-------------+----------+-------+----------+-----------+-----------------+-------------+------------------+-------------------+----------+\n",
       "\n",
       "</div>"
      ]
     },
     "metadata": {
      "application/vnd.databricks.v1+output": {
       "addedWidgets": {},
       "arguments": {},
       "data": "<div class=\"ansiout\">+-------------+--------------+-------------------+---------------+-------------+----------+-------+----------+-----------+-----------------+-------------+------------------+-------------------+----------+\n|RowNumber_TAG|CustomerId_TAG|        Surname_TAG|CreditScore_TAG|Geography_TAG|Gender_TAG|Age_TAG|Tenure_TAG|Balance_TAG|NumOfProducts_TAG|HasCrCard_TAG|IsActiveMember_TAG|EstimatedSalary_TAG|Exited_TAG|\n+-------------+--------------+-------------------+---------------+-------------+----------+-------+----------+-----------+-----------------+-------------+------------------+-------------------+----------+\n|        10000|      15628319|             Walker|            792|       France|    Female|     28|         4|  130142.79|                1|            1|                 0|           38190.78|         0|\n|        10001|     215628319|        New Cliente|            500|       Canada|      Male|     28|         4|   86555.79|                1|            1|                 1|           45000.78|         0|\n|        10001|      15628319|Jack da Silva - MAJ|            792|       Canada|      Male|     28|         4|   86555.79|                1|            1|                 1|           45000.78|         0|\n+-------------+--------------+-------------------+---------------+-------------+----------+-------+----------+-----------+-----------------+-------------+------------------+-------------------+----------+\n\n</div>",
       "datasetInfos": [],
       "metadata": {},
       "removedWidgets": [],
       "type": "html"
      }
     },
     "output_type": "display_data"
    }
   ],
   "source": [
    "dfversionfinal.where((fn.col('CustomerId_TAG') == 15628319) | (fn.col('CustomerId_TAG') == 215628319)).show()"
   ]
  },
  {
   "cell_type": "markdown",
   "metadata": {
    "application/vnd.databricks.v1+cell": {
     "cellMetadata": {
      "byteLimit": 2048000,
      "rowLimit": 10000
     },
     "inputWidgets": {},
     "nuid": "6c1653c9-f92e-4dde-b6ee-0642ad7d4f14",
     "showTitle": false,
     "title": ""
    }
   },
   "source": [
    "### Renomeando as Colunas Corretamente"
   ]
  },
  {
   "cell_type": "code",
   "execution_count": 0,
   "metadata": {
    "application/vnd.databricks.v1+cell": {
     "cellMetadata": {
      "byteLimit": 2048000,
      "rowLimit": 10000
     },
     "inputWidgets": {},
     "nuid": "386d0c1c-909d-4d95-9e8e-b9c1f6bc081f",
     "showTitle": false,
     "title": ""
    }
   },
   "outputs": [
    {
     "output_type": "display_data",
     "data": {
      "text/html": [
       "<style scoped>\n",
       "  .ansiout {\n",
       "    display: block;\n",
       "    unicode-bidi: embed;\n",
       "    white-space: pre-wrap;\n",
       "    word-wrap: break-word;\n",
       "    word-break: break-all;\n",
       "    font-family: \"Source Code Pro\", \"Menlo\", monospace;;\n",
       "    font-size: 13px;\n",
       "    color: #555;\n",
       "    margin-left: 4px;\n",
       "    line-height: 19px;\n",
       "  }\n",
       "</style>\n",
       "<div class=\"ansiout\">Out[16]: [&#39;RowNumber&#39;,\n",
       " &#39;CustomerId&#39;,\n",
       " &#39;Surname&#39;,\n",
       " &#39;CreditScore&#39;,\n",
       " &#39;Geography&#39;,\n",
       " &#39;Gender&#39;,\n",
       " &#39;Age&#39;,\n",
       " &#39;Tenure&#39;,\n",
       " &#39;Balance&#39;,\n",
       " &#39;NumOfProducts&#39;,\n",
       " &#39;HasCrCard&#39;,\n",
       " &#39;IsActiveMember&#39;,\n",
       " &#39;EstimatedSalary&#39;,\n",
       " &#39;Exited&#39;]</div>"
      ]
     },
     "metadata": {
      "application/vnd.databricks.v1+output": {
       "addedWidgets": {},
       "arguments": {},
       "data": "<div class=\"ansiout\">Out[16]: [&#39;RowNumber&#39;,\n &#39;CustomerId&#39;,\n &#39;Surname&#39;,\n &#39;CreditScore&#39;,\n &#39;Geography&#39;,\n &#39;Gender&#39;,\n &#39;Age&#39;,\n &#39;Tenure&#39;,\n &#39;Balance&#39;,\n &#39;NumOfProducts&#39;,\n &#39;HasCrCard&#39;,\n &#39;IsActiveMember&#39;,\n &#39;EstimatedSalary&#39;,\n &#39;Exited&#39;]</div>",
       "datasetInfos": [],
       "metadata": {},
       "removedWidgets": [],
       "type": "html"
      }
     },
     "output_type": "display_data"
    }
   ],
   "source": [
    "dfversionfinal = (dfversionfinal\n",
    "                  .withColumnRenamed('RowNumber_TAG', 'RowNumber')\n",
    "                  .withColumnRenamed('CustomerId_TAG', 'CustomerId')\n",
    "                  .withColumnRenamed('Surname_TAG', 'Surname')\n",
    "                  .withColumnRenamed('CreditScore_TAG', 'CreditScore')\n",
    "                  .withColumnRenamed('Geography_TAG', 'Geography')\n",
    "                  .withColumnRenamed('Gender_TAG', 'Gender')\n",
    "                  .withColumnRenamed('Age_TAG', 'Age')\n",
    "                  .withColumnRenamed('Tenure_TAG', 'Tenure')\n",
    "                  .withColumnRenamed('Balance_TAG', 'Balance')\n",
    "                  .withColumnRenamed('NumOfProducts_TAG', 'NumOfProducts')\n",
    "                  .withColumnRenamed('HasCrCard_TAG', 'HasCrCard')\n",
    "                  .withColumnRenamed('IsActiveMember_TAG', 'IsActiveMember')\n",
    "                  .withColumnRenamed('EstimatedSalary_TAG', 'EstimatedSalary')\n",
    "                  .withColumnRenamed('Exited_TAG', 'Exited')\n",
    "                  )\n",
    "\n",
    "dfversionfinal.columns"
   ]
  },
  {
   "cell_type": "markdown",
   "metadata": {
    "application/vnd.databricks.v1+cell": {
     "cellMetadata": {
      "byteLimit": 2048000,
      "rowLimit": 10000
     },
     "inputWidgets": {},
     "nuid": "05c2d7c5-82f5-4c39-ad9c-d4db37b531ff",
     "showTitle": false,
     "title": ""
    }
   },
   "source": [
    "### Load Final"
   ]
  },
  {
   "cell_type": "code",
   "execution_count": 0,
   "metadata": {
    "application/vnd.databricks.v1+cell": {
     "cellMetadata": {
      "byteLimit": 2048000,
      "rowLimit": 10000
     },
     "inputWidgets": {},
     "nuid": "091fff74-187d-450f-9ae3-78453104519a",
     "showTitle": false,
     "title": ""
    }
   },
   "outputs": [
    {
     "output_type": "display_data",
     "data": {
      "text/html": [
       "<style scoped>\n",
       "  .ansiout {\n",
       "    display: block;\n",
       "    unicode-bidi: embed;\n",
       "    white-space: pre-wrap;\n",
       "    word-wrap: break-word;\n",
       "    word-break: break-all;\n",
       "    font-family: \"Source Code Pro\", \"Menlo\", monospace;;\n",
       "    font-size: 13px;\n",
       "    color: #555;\n",
       "    margin-left: 4px;\n",
       "    line-height: 19px;\n",
       "  }\n",
       "</style>\n",
       "<div class=\"ansiout\"></div>"
      ]
     },
     "metadata": {
      "application/vnd.databricks.v1+output": {
       "addedWidgets": {},
       "arguments": {},
       "data": "<div class=\"ansiout\"></div>",
       "datasetInfos": [],
       "metadata": {},
       "removedWidgets": [],
       "type": "html"
      }
     },
     "output_type": "display_data"
    }
   ],
   "source": [
    "path_silver = \"abfss://silver@saneobanklucas.dfs.core.windows.net/\"\n",
    "\n",
    "# Deixa apenas uma partição do arquivo Parquet\n",
    "# dfversionfinal.coalesce(1).write.mode('overwrite').parquet(path_silver + 'NeoBank_Modelling/Parquet')\n",
    "\n",
    "# Não especifica a quantidade de partições Parquet\n",
    "dfversionfinal.write.mode('overwrite').parquet(path_silver + 'NeoBank_Modelling/Parquet')"
   ]
  }
 ],
 "metadata": {
  "application/vnd.databricks.v1+notebook": {
   "dashboards": [],
   "language": "python",
   "notebookMetadata": {
    "pythonIndentUnit": 4
   },
   "notebookName": "Transformation - Parquet",
   "widgets": {}
  }
 },
 "nbformat": 4,
 "nbformat_minor": 0
}
